{
 "cells": [
  {
   "cell_type": "markdown",
   "metadata": {},
   "source": [
    "# 카톡 채팅 분석 1"
   ]
  },
  {
   "cell_type": "markdown",
   "metadata": {},
   "source": [
    "# Data Load\n",
    "---"
   ]
  },
  {
   "cell_type": "code",
   "execution_count": 1,
   "metadata": {},
   "outputs": [],
   "source": [
    "f = open(\"C:/Users/user/Desktop/카톡대화.txt\", 'r', encoding = 'utf-8')\n",
    "all_chat = []\n",
    "for line in f :\n",
    "    all_chat.append(line.replace('\\n',\"\")) # 엔터 없애주기\n",
    "f.close() "
   ]
  },
  {
   "cell_type": "code",
   "execution_count": 2,
   "metadata": {},
   "outputs": [
    {
     "data": {
      "text/plain": [
       "152922"
      ]
     },
     "execution_count": 2,
     "metadata": {},
     "output_type": "execute_result"
    }
   ],
   "source": [
    "len(all_chat)"
   ]
  },
  {
   "cell_type": "code",
   "execution_count": 3,
   "metadata": {
    "scrolled": true
   },
   "outputs": [
    {
     "data": {
      "text/plain": [
       "['신성재 님과 카카오톡 대화',\n",
       " '저장한 날짜 : 2020-02-27 01:47:43',\n",
       " '',\n",
       " '--------------- 2017년 1월 19일 목요일 ---------------',\n",
       " '[김성화] [오전 2:16] 오 팁 이만냥 받음',\n",
       " '[김성화] [오전 2:16] 재민 그동네 좀 좋네',\n",
       " '[김재민] [오전 2:19] 오',\n",
       " '[김재민] [오전 2:19] 난 카지노 3만원잃음',\n",
       " '[김재민] [오전 2:19] ㅋㅋㅋ',\n",
       " '[김성화] [오전 2:21] ㅋㅋ븅신']"
      ]
     },
     "execution_count": 3,
     "metadata": {},
     "output_type": "execute_result"
    }
   ],
   "source": [
    "all_chat[:10]"
   ]
  },
  {
   "cell_type": "markdown",
   "metadata": {},
   "source": [
    "# Data pre-processing\n",
    "---"
   ]
  },
  {
   "cell_type": "code",
   "execution_count": 4,
   "metadata": {},
   "outputs": [],
   "source": [
    "# 변수 구분\n",
    "name = []\n",
    "time = []\n",
    "text = []\n",
    "err = []\n",
    "for chat in all_chat :\n",
    "    temp = chat.split('] ')\n",
    "    if len(temp) == 3 :\n",
    "        name.append(temp[0].replace(\"[\",\"\"))\n",
    "        time.append(temp[1].replace(\"[\",\"\"))\n",
    "        text.append(temp[2])\n",
    "    else:\n",
    "        err.append(chat)"
   ]
  },
  {
   "cell_type": "code",
   "execution_count": 5,
   "metadata": {},
   "outputs": [
    {
     "data": {
      "text/plain": [
       "['오 팁 이만냥 받음',\n",
       " '재민 그동네 좀 좋네',\n",
       " '오',\n",
       " '난 카지노 3만원잃음',\n",
       " 'ㅋㅋㅋ',\n",
       " 'ㅋㅋ븅신',\n",
       " 'ㅋㅋㅋㅋㅋㅋㅋㅋㅋㅋㅋ',\n",
       " '여기 한심하게돈많은놈들많더',\n",
       " '개부럽',\n",
       " 'ㅋㅋㅋ그새끼들 연락처받아놔라']"
      ]
     },
     "execution_count": 5,
     "metadata": {},
     "output_type": "execute_result"
    }
   ],
   "source": [
    "text[:10]"
   ]
  },
  {
   "cell_type": "code",
   "execution_count": 6,
   "metadata": {},
   "outputs": [
    {
     "data": {
      "text/plain": [
       "['오전 2:16',\n",
       " '오전 2:16',\n",
       " '오전 2:19',\n",
       " '오전 2:19',\n",
       " '오전 2:19',\n",
       " '오전 2:21',\n",
       " '오전 2:21',\n",
       " '오전 2:21',\n",
       " '오전 2:21',\n",
       " '오전 2:22']"
      ]
     },
     "execution_count": 6,
     "metadata": {},
     "output_type": "execute_result"
    }
   ],
   "source": [
    "time[:10]"
   ]
  },
  {
   "cell_type": "code",
   "execution_count": 7,
   "metadata": {},
   "outputs": [
    {
     "data": {
      "text/plain": [
       "['김성화', '김성화', '김재민', '김재민', '김재민', '김성화', '김재민', '김재민', '김재민', '김성화']"
      ]
     },
     "execution_count": 7,
     "metadata": {},
     "output_type": "execute_result"
    }
   ],
   "source": [
    "name[:10]"
   ]
  },
  {
   "cell_type": "code",
   "execution_count": 8,
   "metadata": {},
   "outputs": [],
   "source": [
    "# 띄워쓰기로 구분하고 합칠것\n",
    "temp = \" \".join(text).split(\" \")"
   ]
  },
  {
   "cell_type": "code",
   "execution_count": 9,
   "metadata": {},
   "outputs": [
    {
     "data": {
      "text/plain": [
       "[('김재민', 56857), ('김성화', 37108), ('곽종현🎗', 31927), ('김신기', 23316)]"
      ]
     },
     "execution_count": 9,
     "metadata": {},
     "output_type": "execute_result"
    }
   ],
   "source": [
    "# 갯수 세는 패키지\n",
    "from collections import Counter\n",
    "count = Counter(name)\n",
    "count.most_common(10)"
   ]
  },
  {
   "cell_type": "code",
   "execution_count": 10,
   "metadata": {},
   "outputs": [],
   "source": [
    "# 리스트 요소를 나누거나 나누는 경우 zip함수\n",
    "n,c = zip(*count.most_common(10))"
   ]
  },
  {
   "cell_type": "code",
   "execution_count": 11,
   "metadata": {},
   "outputs": [
    {
     "data": {
      "text/plain": [
       "('김재민', '김성화', '곽종현🎗', '김신기')"
      ]
     },
     "execution_count": 11,
     "metadata": {},
     "output_type": "execute_result"
    }
   ],
   "source": [
    "n[:10]"
   ]
  },
  {
   "cell_type": "code",
   "execution_count": 12,
   "metadata": {},
   "outputs": [
    {
     "data": {
      "text/plain": [
       "(56857, 37108, 31927, 23316)"
      ]
     },
     "execution_count": 12,
     "metadata": {},
     "output_type": "execute_result"
    }
   ],
   "source": [
    "c[:10]"
   ]
  },
  {
   "cell_type": "code",
   "execution_count": 13,
   "metadata": {},
   "outputs": [],
   "source": [
    "import matplotlib.pyplot as plt\n",
    "import matplotlib.font_manager\n",
    "%matplotlib inline"
   ]
  },
  {
   "cell_type": "code",
   "execution_count": 14,
   "metadata": {},
   "outputs": [],
   "source": [
    "# 그래프 내 한글 변환\n",
    "from matplotlib import font_manager, rc\n",
    "font_name = font_manager.FontProperties(fname=\"C://Users//user/Github/NanumSquareB.ttf\").get_name()\n",
    "rc('font', family=font_name)"
   ]
  },
  {
   "cell_type": "code",
   "execution_count": 15,
   "metadata": {},
   "outputs": [],
   "source": [
    "# 매소드 정보\n",
    "?matplotlib.font_manager.FontProperties"
   ]
  },
  {
   "cell_type": "code",
   "execution_count": 16,
   "metadata": {},
   "outputs": [
    {
     "data": {
      "text/plain": [
       "'C:\\\\Users\\\\user\\\\Github\\\\Project_Kakao chat'"
      ]
     },
     "execution_count": 16,
     "metadata": {},
     "output_type": "execute_result"
    }
   ],
   "source": [
    "# 현재 워킹 디렉토리\n",
    "%pwd"
   ]
  },
  {
   "cell_type": "code",
   "execution_count": 17,
   "metadata": {
    "scrolled": true
   },
   "outputs": [
    {
     "data": {
      "text/plain": [
       "<function matplotlib.pyplot.show(*args, **kw)>"
      ]
     },
     "execution_count": 17,
     "metadata": {},
     "output_type": "execute_result"
    },
    {
     "data": {
      "image/png": "[encoded data removed]",
      "text/plain": [
       "<Figure size 432x288 with 1 Axes>"
      ]
     },
     "metadata": {
      "needs_background": "light"
     },
     "output_type": "display_data"
    }
   ],
   "source": [
    "plt.plot(c)\n",
    "plt.show"
   ]
  },
  {
   "cell_type": "code",
   "execution_count": 18,
   "metadata": {},
   "outputs": [
    {
     "data": {
      "text/plain": [
       "array([0, 1, 2, 3, 4, 5, 6, 7, 8, 9])"
      ]
     },
     "execution_count": 18,
     "metadata": {},
     "output_type": "execute_result"
    }
   ],
   "source": [
    "import numpy as np\n",
    "np.arange(10)"
   ]
  },
  {
   "cell_type": "code",
   "execution_count": 22,
   "metadata": {},
   "outputs": [
    {
     "data": {
      "image/png": "[encoded data removed]",
      "text/plain": [
       "<Figure size 432x288 with 1 Axes>"
      ]
     },
     "metadata": {
      "needs_background": "light"
     },
     "output_type": "display_data"
    }
   ],
   "source": [
    "# 그래프 그리기\n",
    "plt.figure(figsize=(6,4)) # 도화지\n",
    "plt.title(\"카카오톡 채팅분석\") # 그래프 제목\n",
    "\n",
    "y = c\n",
    "x = n\n",
    "total = sum(c)\n",
    "\n",
    "# plt.barh(-np.arange(len(x)), y, color = 'blue') # 그래프 x값 y값, 색상\n",
    "# plt.yticks(-np.arange(len(x)), x) # y축 데이터 레이블\n",
    "# plt.xlabel(\"카카오톡 채팅 수\") # x축 레이블\n",
    "\n",
    "plt.barh(-np.arange(len(x)), np.array(y)/total, color = 'b') # 그래프 x값 y값, 색상\n",
    "plt.yticks(-np.arange(len(x)), x) # y축 데이터 레이블\n",
    "plt.xlabel(\"카카오톡 지분율\") # x축 레이블\n",
    "\n",
    "#plt.show()\n",
    "plt.savefig(\"talk share graph.png\")"
   ]
  },
  {
   "cell_type": "markdown",
   "metadata": {},
   "source": [
    "# 출처\n",
    "---\n",
    "카카오톡 대화 불러오기 - https://github.com/ssooni  \n",
    "형태소 모듈 - https://konlpy-ko.readthedocs.io/ko/v0.4.3/morph/  \n",
    "주피터 용량 제한 - http://bit.ly/2x2n2AC  \n",
    "데이터 병합 - http://bit.ly/2IbheHg  \n",
    "카카오 채팅 분석 = https://github.com/me0768/python_data/blob/master/kakaotalk/talk.py"
   ]
  },
  {
   "cell_type": "code",
   "execution_count": null,
   "metadata": {},
   "outputs": [],
   "source": []
  }
 ],
 "metadata": {
  "kernelspec": {
   "display_name": "Python 3",
   "language": "python",
   "name": "python3"
  },
  "language_info": {
   "codemirror_mode": {
    "name": "ipython",
    "version": 3
   },
   "file_extension": ".py",
   "mimetype": "text/x-python",
   "name": "python",
   "nbconvert_exporter": "python",
   "pygments_lexer": "ipython3",
   "version": "3.7.1"
  }
 },
 "nbformat": 4,
 "nbformat_minor": 2
}
