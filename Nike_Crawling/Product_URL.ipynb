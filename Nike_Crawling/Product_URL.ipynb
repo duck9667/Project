{
 "cells": [
  {
   "cell_type": "markdown",
   "metadata": {},
   "source": [
    "# Product_URL"
   ]
  },
  {
   "cell_type": "code",
   "execution_count": 1,
   "metadata": {},
   "outputs": [],
   "source": [
    "import requests\n",
    "from bs4 import BeautifulSoup\n",
    "import time\n",
    "import urllib.request\n",
    "from selenium.webdriver import Chrome\n",
    "from selenium import webdriver\n",
    "import re     \n",
    "from selenium.webdriver.chrome.options import Options\n",
    "from selenium.webdriver.common.keys import Keys\n",
    "import datetime as dt\n",
    "import pandas as pd"
   ]
  },
  {
   "cell_type": "code",
   "execution_count": 20,
   "metadata": {},
   "outputs": [],
   "source": [
    "def getNike(url):\n",
    "    browser = webdriver.Chrome(\"C:/Users/kjh96/OneDrive/Desktop/Github/duck9967/ETC/chromedriver.exe\") \n",
    "    url = url\n",
    "\n",
    "    browser.get(url)  \n",
    "    browser.maximize_window()\n",
    "    browser.implicitly_wait(1)\n",
    "\n",
    "    # 페이지 스크롤 - 스크롤 내려서 전체 동영상 목록 가져오기(예시 20번)\n",
    "    body = browser.find_element_by_tag_name('body') # 스크롤하기 위해 소스 추출\n",
    "    num_of_pagedowns = 30\n",
    "\n",
    "    while num_of_pagedowns:\n",
    "        body.send_keys(Keys.PAGE_DOWN)\n",
    "        browser.implicitly_wait(1)\n",
    "        num_of_pagedowns -= 1\n",
    "\n",
    "    # html로 파싱\n",
    "    url = browser.page_source\n",
    "    html = BeautifulSoup(url,'html.parser')\n",
    "    link = html.find_all('a',{'class':'a-product-image-link'})\n",
    "    # print(link[0].find('img')['alt'])\n",
    "    # print(link[0][\"href\"])\n",
    "    # print(len(link))\n",
    "\n",
    "    link_list = []\n",
    "    title_list =  []\n",
    "    for i in range(len(link)) :\n",
    "        tltle = link[i].find('img')['alt']\n",
    "        url= link[i][\"href\"]\n",
    "\n",
    "        link_list.append(url)\n",
    "        title_list.append(tltle)\n",
    "        \n",
    "    df = pd.DataFrame({\"title\" : title_list, \"url\" : link_list})\n",
    "    print(df.shape)"
   ]
  },
  {
   "cell_type": "code",
   "execution_count": null,
   "metadata": {},
   "outputs": [],
   "source": [
    "getNike(\"https://www.nike.com/kr/ko_kr/w/men/fw\")"
   ]
  },
  {
   "cell_type": "code",
   "execution_count": 24,
   "metadata": {},
   "outputs": [
    {
     "name": "stderr",
     "output_type": "stream",
     "text": [
      "[NbConvertApp] Converting notebook Product_URL.ipynb to python\n",
      "[NbConvertApp] Writing 1583 bytes to Product_URL.py\n"
     ]
    }
   ],
   "source": [
    "# !jupyter nbconvert --to python Product_URL.ipynb"
   ]
  }
 ],
 "metadata": {
  "kernelspec": {
   "display_name": "Python 3",
   "language": "python",
   "name": "python3"
  },
  "language_info": {
   "codemirror_mode": {
    "name": "ipython",
    "version": 3
   },
   "file_extension": ".py",
   "mimetype": "text/x-python",
   "name": "python",
   "nbconvert_exporter": "python",
   "pygments_lexer": "ipython3",
   "version": "3.7.6"
  }
 },
 "nbformat": 4,
 "nbformat_minor": 4
}
