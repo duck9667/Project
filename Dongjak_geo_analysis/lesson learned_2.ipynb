{
 "cells": [
  {
   "cell_type": "code",
   "execution_count": null,
   "metadata": {},
   "outputs": [],
   "source": [
    "시각화"
   ]
  },
  {
   "cell_type": "code",
   "execution_count": 1,
   "metadata": {},
   "outputs": [
    {
     "name": "stdout",
     "output_type": "stream",
     "text": [
      "Requirement already satisfied: wheel in c:\\users\\kjh96\\anaconda3\\lib\\site-packages (0.34.2)\n",
      "Note: you may need to restart the kernel to use updated packages.\n"
     ]
    }
   ],
   "source": [
    "pip install wheel"
   ]
  },
  {
   "cell_type": "code",
   "execution_count": null,
   "metadata": {},
   "outputs": [],
   "source": [
    "pip install \"C:/Users/kjh96/Github/ETC/Fiona-1.8.13-cp37-cp37m-win_amd64.whl\""
   ]
  },
  {
   "cell_type": "code",
   "execution_count": null,
   "metadata": {},
   "outputs": [],
   "source": [
    "pip install \"C:/Users/kjh96/Github/ETC/GDAL-3.0.4-cp37-cp37m-win_amd64.whl\""
   ]
  },
  {
   "cell_type": "code",
   "execution_count": null,
   "metadata": {},
   "outputs": [],
   "source": [
    "pip install \"C:/Users/kjh96/Github/ETC/Shapely-1.7.0-cp37-cp37m-win_amd64.whl\""
   ]
  },
  {
   "cell_type": "code",
   "execution_count": 5,
   "metadata": {},
   "outputs": [
    {
     "name": "stdout",
     "output_type": "stream",
     "text": [
      "Collecting keplergl\n",
      "  Using cached keplergl-0.1.2.tar.gz (5.4 MB)\n",
      "Requirement already satisfied: ipywidgets<8,>=7.0.0 in c:\\users\\kjh96\\anaconda3\\lib\\site-packages (from keplergl) (7.5.1)\n",
      "Collecting traittypes>=0.2.1\n",
      "  Using cached traittypes-0.2.1-py2.py3-none-any.whl (8.6 kB)\n",
      "Collecting geopandas>=0.5.0\n",
      "  Using cached geopandas-0.7.0-py2.py3-none-any.whl (928 kB)\n",
      "Requirement already satisfied: pandas>=0.23.0 in c:\\users\\kjh96\\anaconda3\\lib\\site-packages (from keplergl) (1.0.1)\n",
      "Collecting Shapely>=1.6.4.post2\n",
      "  Using cached Shapely-1.7.0-cp37-cp37m-win_amd64.whl (1.0 MB)\n",
      "Requirement already satisfied: ipython>=4.0.0; python_version >= \"3.3\" in c:\\users\\kjh96\\anaconda3\\lib\\site-packages (from ipywidgets<8,>=7.0.0->keplergl) (7.12.0)\n",
      "Requirement already satisfied: nbformat>=4.2.0 in c:\\users\\kjh96\\anaconda3\\lib\\site-packages (from ipywidgets<8,>=7.0.0->keplergl) (5.0.4)\n",
      "Requirement already satisfied: widgetsnbextension~=3.5.0 in c:\\users\\kjh96\\anaconda3\\lib\\site-packages (from ipywidgets<8,>=7.0.0->keplergl) (3.5.1)\n",
      "Requirement already satisfied: traitlets>=4.3.1 in c:\\users\\kjh96\\anaconda3\\lib\\site-packages (from ipywidgets<8,>=7.0.0->keplergl) (4.3.3)\n",
      "Requirement already satisfied: ipykernel>=4.5.1 in c:\\users\\kjh96\\anaconda3\\lib\\site-packages (from ipywidgets<8,>=7.0.0->keplergl) (5.1.4)\n",
      "Collecting pyproj>=2.2.0\n",
      "  Using cached pyproj-2.6.0-cp37-cp37m-win_amd64.whl (24.1 MB)\n",
      "Collecting fiona\n",
      "  Using cached Fiona-1.8.13.post1.tar.gz (1.2 MB)\n",
      "Note: you may need to restart the kernel to use updated packages.\n"
     ]
    },
    {
     "name": "stderr",
     "output_type": "stream",
     "text": [
      "    ERROR: Command errored out with exit status 1:\n",
      "     command: 'C:\\Users\\kjh96\\anaconda3\\python.exe' -c 'import sys, setuptools, tokenize; sys.argv[0] = '\"'\"'C:\\\\Users\\\\kjh96\\\\AppData\\\\Local\\\\Temp\\\\pip-install-4vcd9qe9\\\\fiona\\\\setup.py'\"'\"'; __file__='\"'\"'C:\\\\Users\\\\kjh96\\\\AppData\\\\Local\\\\Temp\\\\pip-install-4vcd9qe9\\\\fiona\\\\setup.py'\"'\"';f=getattr(tokenize, '\"'\"'open'\"'\"', open)(__file__);code=f.read().replace('\"'\"'\\r\\n'\"'\"', '\"'\"'\\n'\"'\"');f.close();exec(compile(code, __file__, '\"'\"'exec'\"'\"'))' egg_info --egg-base 'C:\\Users\\kjh96\\AppData\\Local\\Temp\\pip-install-4vcd9qe9\\fiona\\pip-egg-info'\n",
      "         cwd: C:\\Users\\kjh96\\AppData\\Local\\Temp\\pip-install-4vcd9qe9\\fiona\\\n",
      "    Complete output (1 lines):\n",
      "    A GDAL API version must be specified. Provide a path to gdal-config using a GDAL_CONFIG environment variable or use a GDAL_VERSION environment variable.\n",
      "    ----------------------------------------\n",
      "ERROR: Command errored out with exit status 1: python setup.py egg_info Check the logs for full command output.\n"
     ]
    }
   ],
   "source": [
    "pip install keplergl"
   ]
  },
  {
   "cell_type": "code",
   "execution_count": 4,
   "metadata": {},
   "outputs": [
    {
     "ename": "ModuleNotFoundError",
     "evalue": "No module named 'keplergl'",
     "output_type": "error",
     "traceback": [
      "\u001b[1;31m---------------------------------------------------------------------------\u001b[0m",
      "\u001b[1;31mModuleNotFoundError\u001b[0m                       Traceback (most recent call last)",
      "\u001b[1;32m<ipython-input-4-4eb84847c42a>\u001b[0m in \u001b[0;36m<module>\u001b[1;34m\u001b[0m\n\u001b[1;32m----> 1\u001b[1;33m \u001b[1;32mimport\u001b[0m \u001b[0mkeplergl\u001b[0m\u001b[1;33m\u001b[0m\u001b[1;33m\u001b[0m\u001b[0m\n\u001b[0m",
      "\u001b[1;31mModuleNotFoundError\u001b[0m: No module named 'keplergl'"
     ]
    }
   ],
   "source": [
    "import keplergl"
   ]
  },
  {
   "cell_type": "markdown",
   "metadata": {},
   "source": [
    "출처  \n",
    "https://medium.com/vis-gl/introducing-kepler-gl-for-jupyter-f72d41659fbf"
   ]
  }
 ],
 "metadata": {
  "kernelspec": {
   "display_name": "Python 3",
   "language": "python",
   "name": "python3"
  },
  "language_info": {
   "codemirror_mode": {
    "name": "ipython",
    "version": 3
   },
   "file_extension": ".py",
   "mimetype": "text/x-python",
   "name": "python",
   "nbconvert_exporter": "python",
   "pygments_lexer": "ipython3",
   "version": "3.7.6"
  }
 },
 "nbformat": 4,
 "nbformat_minor": 4
}
