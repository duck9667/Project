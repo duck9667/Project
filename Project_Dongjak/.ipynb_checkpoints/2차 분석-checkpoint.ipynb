{
 "cells": [
  {
   "cell_type": "code",
   "execution_count": 2,
   "metadata": {},
   "outputs": [],
   "source": [
    "from urllib.parse import urlparse\n",
    "import pandas as pd\n",
    "import requests\n",
    "import numpy as np  \n",
    "import glob  \n",
    "import sys\n",
    "import json\n",
    "import os"
   ]
  },
  {
   "cell_type": "code",
   "execution_count": 74,
   "metadata": {},
   "outputs": [
    {
     "data": {
      "text/plain": [
       "(37.5124820423519, 126.93931505634)"
      ]
     },
     "execution_count": 74,
     "metadata": {},
     "output_type": "execute_result"
    }
   ],
   "source": [
    "# 좌표 추출\n",
    "\n",
    "api_key = '698ee17bb1cc0277da8095d10b85ba80'\n",
    "\n",
    "def getLatLng(addr):\n",
    "    url = 'https://dapi.kakao.com/v2/local/search/address.json?query=' + addr\n",
    "    headers = {\"Authorization\": \"KakaoAK \" + api_key}\n",
    "    result = json.loads(str(requests.get(url, headers=headers).text))\n",
    "    match_first = result['documents'][0]['address']\n",
    "    return float(match_first['y']), float(match_first['x'])\n",
    "\n",
    "getLatLng(\"서울시 동작구\")"
   ]
  },
  {
   "cell_type": "markdown",
   "metadata": {},
   "source": [
    "# 1. 동작구 상가상권정보 (주변환경)"
   ]
  },
  {
   "cell_type": "markdown",
   "metadata": {},
   "source": [
    "### 1.0. 행안부 상가상권정보 160개 엑셀 파일 합치기"
   ]
  },
  {
   "cell_type": "code",
   "execution_count": null,
   "metadata": {},
   "outputs": [],
   "source": [
    "#파일 Union  \n",
    "all_data = pd.DataFrame()  \n",
    "\n",
    "#test\n",
    "for f in glob.glob('./data/서울_행안부_업종데이터/test/6110000_*.xlsx'):\n",
    "    df = pd.read_excel(f)  \n",
    "    all_data = all_data.append(df, ignore_index=True)\n",
    "\n",
    "#데이터갯수확인  \n",
    "print(all_data.shape)\n",
    "\n",
    "#데이터 잘 들어오는지 확인  \n",
    "all_data.head()\n",
    "\n",
    "#파일저장  \n",
    "all_data.to_excel(\"./data/서울_행안부_업종데이터/test.xlsx\", index=False)"
   ]
  },
  {
   "cell_type": "markdown",
   "metadata": {},
   "source": [
    "### 1.1. test 파일에서 소재지 또는 도로명 주소로 동작구만 추출 (내용 생략)"
   ]
  },
  {
   "cell_type": "markdown",
   "metadata": {},
   "source": [
    "### 1.2. 좌표변환"
   ]
  },
  {
   "cell_type": "code",
   "execution_count": 9,
   "metadata": {},
   "outputs": [],
   "source": [
    "store_dj = pd.read_excel(\"./data/store_dj.xlsx\")\n",
    "store_dj = store_dj.reset_index(drop=True).drop(['번호',\"Unnamed: 0\"], axis=1)"
   ]
  },
  {
   "cell_type": "code",
   "execution_count": null,
   "metadata": {},
   "outputs": [],
   "source": [
    "# 폐업한 사업장 제외\n",
    "store_dj = store_dj[store_dj['영업상태명'] != \"폐업\"]\n",
    "\n",
    "# 데이터 셀렉\n",
    "store_dj = store_dj[[\"개방서비스명\",'소재지전체주소',\"도로명전체주소\",'사업장명','업태구분명','좌표정보(X)','좌표정보(Y)']]\n",
    "store_dj.reset_index(drop=True)"
   ]
  },
  {
   "cell_type": "code",
   "execution_count": null,
   "metadata": {},
   "outputs": [],
   "source": [
    "# 유해시설 추출\n",
    "store_dj = store_dj[store_dj[\"개방서비스명\"].str.contains(\"개방서비스명|청소년게임제공업|유흥주점영업|숙박업|석유판매업|석유및석유대체연료판매업체|분뇨수집운반업|배출가스전문정비사업자(확인검사대행자)|대기오염물질배출시설설치사업장|단란주점영업|단독정화조/오수처리시설설계시공업|노래연습장업|공연장|건설폐기물처리업|개인하수처리시설관리업(사업장)\")]\n",
    "store_dj = store_dj.reset_index(drop=True)"
   ]
  },
  {
   "cell_type": "code",
   "execution_count": 12,
   "metadata": {},
   "outputs": [],
   "source": [
    "store_dj[\"좌표정보(X)\"] = \"\"\n",
    "store_dj[\"좌표정보(Y)\"] = \"\"\n",
    "pd.set_option('mode.chained_assignment', None)\n",
    "\n",
    "for i in range(len(store_dj)):\n",
    "        try :\n",
    "            store_dj[\"좌표정보(X)\"][i] = getLatLng(store_dj['소재지전체주소'][i])[0]\n",
    "            store_dj[\"좌표정보(Y)\"][i] = getLatLng(store_dj['소재지전체주소'][i])[1]\n",
    "        except :\n",
    "            store_dj[\"좌표정보(X)\"][i] = \"non_match\"\n",
    "            store_dj[\"좌표정보(Y)\"][i] = \"non_match\""
   ]
  },
  {
   "cell_type": "code",
   "execution_count": 221,
   "metadata": {},
   "outputs": [],
   "source": [
    "# 이후는 수작업\n",
    "store_dj.to_csv(\"./data/store_dj_fin.csv\",encoding=\"CP949\")"
   ]
  },
  {
   "cell_type": "markdown",
   "metadata": {},
   "source": [
    "# 2. 토지특성 정보 (가용지)"
   ]
  },
  {
   "cell_type": "code",
   "execution_count": null,
   "metadata": {},
   "outputs": [],
   "source": [
    "att = pd.read_csv(\"./data/서울_토지특성정보/서울_토지특성정보.csv\", encoding = \"CP949\")"
   ]
  },
  {
   "cell_type": "code",
   "execution_count": 7,
   "metadata": {},
   "outputs": [],
   "source": [
    "att_fin = att[[\"법정동코드\",'법정동명','지번','지목명','용도지역명1','용도지역명2','토지면적','데이터기준일자']]"
   ]
  },
  {
   "cell_type": "markdown",
   "metadata": {},
   "source": [
    "### 2.1. 동작구만 추출"
   ]
  },
  {
   "cell_type": "code",
   "execution_count": null,
   "metadata": {},
   "outputs": [],
   "source": [
    "att_dongjak = att_fin[att_fin['법정동명'].str.contains(\"동작구\")]\n",
    "att_dongjak['주소'] = att_dongjak['법정동명'] + \" \" + att_dongjak['지번']"
   ]
  },
  {
   "cell_type": "markdown",
   "metadata": {},
   "source": [
    "### 2.2. 최근 데이터 기준일만 추출"
   ]
  },
  {
   "cell_type": "code",
   "execution_count": 41,
   "metadata": {},
   "outputs": [],
   "source": [
    "att_dongjak_fin = att_dongjak[att_dongjak.shift(-1)['데이터기준일자'] != att_dongjak['데이터기준일자']]"
   ]
  },
  {
   "cell_type": "markdown",
   "metadata": {},
   "source": [
    "### 2.3. 주소 중복제거"
   ]
  },
  {
   "cell_type": "code",
   "execution_count": 46,
   "metadata": {},
   "outputs": [],
   "source": [
    "att_dongjak_fin = att_dongjak[att_dongjak.shift(-1)['주소'] != att_dongjak['주소']]"
   ]
  },
  {
   "cell_type": "code",
   "execution_count": 48,
   "metadata": {},
   "outputs": [
    {
     "data": {
      "text/plain": [
       "(42266, 9)"
      ]
     },
     "execution_count": 48,
     "metadata": {},
     "output_type": "execute_result"
    }
   ],
   "source": [
    "# 유니크 주소\n",
    "att_dongjak_fin.shape"
   ]
  },
  {
   "cell_type": "code",
   "execution_count": null,
   "metadata": {},
   "outputs": [],
   "source": [
    "att_dongjak_fin[\"좌표정보(X)\"] = \"\"\n",
    "att_dongjak_fin[\"좌표정보(Y)\"] = \"\"\n",
    "\n",
    "for i in range(len(att_dongjak_fin)):\n",
    "        try :\n",
    "            att_dongjak_fin[\"좌표정보(X)\"][i] = getLatLng(att_dongjak_fin['주소'][i])[0]\n",
    "            att_dongjak_fin[\"좌표정보(Y)\"][i] = getLatLng(att_dongjak_fin['주소'][i])[1]\n",
    "        except :\n",
    "            att_dongjak_fin[\"좌표정보(X)\"][i] = \"non_match\"\n",
    "            att_dongjak_fin[\"좌표정보(Y)\"][i] = \"non_match\""
   ]
  },
  {
   "cell_type": "markdown",
   "metadata": {},
   "source": [
    "### 2.4. 자연녹지지역만 추출"
   ]
  },
  {
   "cell_type": "code",
   "execution_count": 42,
   "metadata": {},
   "outputs": [],
   "source": [
    "att_green = att_dongjak_fin[att_dongjak_fin[\"용도지역명2\"] == \"자연녹지지역\"]\n",
    "att_green= att_green.reset_index(drop=True)"
   ]
  },
  {
   "cell_type": "code",
   "execution_count": 75,
   "metadata": {},
   "outputs": [],
   "source": [
    "att_green[\"좌표정보(X)\"] = \"\"\n",
    "att_green[\"좌표정보(Y)\"] = \"\"\n",
    "pd.set_option('mode.chained_assignment', None)\n",
    "for i in range(len(att_green)):\n",
    "        try :\n",
    "            att_green[\"좌표정보(X)\"][i] = getLatLng(att_green['주소'][i])[0]\n",
    "            att_green[\"좌표정보(Y)\"][i] = getLatLng(att_green['주소'][i])[1]\n",
    "        except :\n",
    "            att_green[\"좌표정보(X)\"][i] = \"non_match\"\n",
    "            att_green[\"좌표정보(Y)\"][i] = \"non_match\""
   ]
  },
  {
   "cell_type": "code",
   "execution_count": 86,
   "metadata": {},
   "outputs": [],
   "source": [
    "att_green.to_csv(\"./att_greean_fin.csv\",encoding=\"CP949\")"
   ]
  },
  {
   "cell_type": "code",
   "execution_count": null,
   "metadata": {},
   "outputs": [],
   "source": [
    "# 좌표 변환 안된 주소는 수작업\n",
    "att_green[att_green[\"좌표정보(X)\"]==\"non_match\"]"
   ]
  },
  {
   "cell_type": "markdown",
   "metadata": {},
   "source": [
    "# 3. 국가 시설"
   ]
  },
  {
   "cell_type": "code",
   "execution_count": 229,
   "metadata": {},
   "outputs": [],
   "source": [
    "facility = pd.read_csv(\"./data/전국_도시계획통계시설정보/전국_도시계획통계시설정보.csv\",encoding=\"CP949\")"
   ]
  },
  {
   "cell_type": "code",
   "execution_count": 231,
   "metadata": {},
   "outputs": [],
   "source": [
    "facility_notnull = facility[facility[\"위치정보\"].notnull()]\n",
    "facility_dj = facility_notnull[facility_notnull[\"위치정보\"].str.contains(\"동작|노량진|상도|흑석|동작|사당|대방|신대방\")]\n",
    "facility_dj = facility_dj.reset_index(drop=True)"
   ]
  },
  {
   "cell_type": "code",
   "execution_count": 232,
   "metadata": {},
   "outputs": [],
   "source": [
    "facility_dj[\"좌표정보(X)\"] = \"\"\n",
    "facility_dj[\"좌표정보(Y)\"] = \"\"\n",
    "pd.set_option('mode.chained_assignment', None)\n",
    "\n",
    "for i in range(len(facility_dj)):\n",
    "        try :\n",
    "            facility_dj[\"좌표정보(X)\"][i] = getLatLng(facility_dj['위치정보'][i])[0]\n",
    "            facility_dj[\"좌표정보(Y)\"][i] = getLatLng(facility_dj['위치정보'][i])[1]\n",
    "        except :\n",
    "            facility_dj[\"좌표정보(X)\"][i] = \"non_match\"\n",
    "            facility_dj[\"좌표정보(Y)\"][i] = \"non_match\""
   ]
  },
  {
   "cell_type": "code",
   "execution_count": null,
   "metadata": {},
   "outputs": [],
   "source": [
    "# 수작업 후 다시 불러오기\n",
    "facility_dj = pd.read_csv(\"./data/facility_dj.csv\", encoding=\"CP949\",index_col=0).reset_index(drop=True)\n",
    "facility_dj.rename(columns={\"Unnamed: 11\" : \"좌표\"}, inplace = True)\n",
    "facility_dj[facility_dj['좌표정보(X)'] == \"non_match\"]"
   ]
  },
  {
   "cell_type": "code",
   "execution_count": 245,
   "metadata": {},
   "outputs": [],
   "source": [
    "for i in range(len(facility_dj)):\n",
    "    if facility_dj['좌표정보(X)'][i] == \"non_match\" :\n",
    "        try :\n",
    "            facility_dj['좌표정보(X)'][i] = facility_dj['좌표'][i].split(\",\")[0]\n",
    "            facility_dj['좌표정보(Y)'][i] = facility_dj['좌표'][i].split(\",\")[1]\n",
    "        except :\n",
    "            pass"
   ]
  },
  {
   "cell_type": "code",
   "execution_count": 250,
   "metadata": {},
   "outputs": [],
   "source": [
    "facility_dj_fin = facility_dj[facility_dj[\"좌표정보(X)\"] != \"non_match\"]\n",
    "facility_dj_fin = facility_dj_fin.drop(['좌표'],axis=1)"
   ]
  },
  {
   "cell_type": "code",
   "execution_count": 251,
   "metadata": {},
   "outputs": [],
   "source": [
    "facility_dj_fin.to_csv(\"./data/facility_dj_fin.csv\", encoding=\"CP949\")\n",
    "# 추가 수잡업"
   ]
  },
  {
   "cell_type": "markdown",
   "metadata": {},
   "source": [
    "# 4. 법정동 추출"
   ]
  },
  {
   "cell_type": "markdown",
   "metadata": {},
   "source": [
    "### 버스 정류장"
   ]
  },
  {
   "cell_type": "code",
   "execution_count": 299,
   "metadata": {},
   "outputs": [],
   "source": [
    "bus = pd.read_csv(\"C:/Users/kjh96/OneDrive/Desktop/서울시버스정류소좌표데이터_주소.csv\",encoding=\"CP949\").drop([\"No\"],axis=1)"
   ]
  },
  {
   "cell_type": "code",
   "execution_count": null,
   "metadata": {},
   "outputs": [],
   "source": [
    "bus[bus[\"지번주소\"].isnull()]\n",
    "bus = bus[bus[\"지번주소\"].notnull()]\n",
    "bus_dj = bus[bus['지번주소'].str.contains(\"동작구\")].reset_index(drop=True)"
   ]
  },
  {
   "cell_type": "code",
   "execution_count": 306,
   "metadata": {},
   "outputs": [],
   "source": [
    "bus_dj[\"법정동\"] = \"\"\n",
    "for i in range(len(bus_dj)) :\n",
    "    bus_dj[\"법정동\"][i] = bus_dj[\"지번주소\"][i].split(\" \")[2]"
   ]
  },
  {
   "cell_type": "code",
   "execution_count": 309,
   "metadata": {},
   "outputs": [],
   "source": [
    "bus_dj.to_csv(\"C:/Users/kjh96/OneDrive/Desktop/서울시버스정류소좌표데이터_fin.csv\",encoding=\"CP949\")"
   ]
  },
  {
   "cell_type": "markdown",
   "metadata": {},
   "source": [
    "### CCTV"
   ]
  },
  {
   "cell_type": "code",
   "execution_count": 311,
   "metadata": {},
   "outputs": [],
   "source": [
    "cct = pd.read_csv(\"C:/Users/kjh96/OneDrive/Desktop/서울특별시_동작구_CCTV_주소.csv\",encoding=\"CP949\").drop([\"No\"],axis=1)"
   ]
  },
  {
   "cell_type": "code",
   "execution_count": 315,
   "metadata": {},
   "outputs": [],
   "source": [
    "cct[\"법정동\"] = \"\"\n",
    "for i in range(len(cct)) :\n",
    "    cct[\"법정동\"][i] = cct[\"지번주소\"][i].split(\" \")[2]"
   ]
  },
  {
   "cell_type": "code",
   "execution_count": 318,
   "metadata": {},
   "outputs": [],
   "source": [
    "cct.to_csv(\"C:/Users/kjh96/OneDrive/Desktop/서울특별시_동작구_CCTV_주소_fin.csv\",encoding=\"CP949\")"
   ]
  },
  {
   "cell_type": "markdown",
   "metadata": {},
   "source": [
    "### 국가시설"
   ]
  },
  {
   "cell_type": "code",
   "execution_count": 362,
   "metadata": {},
   "outputs": [],
   "source": [
    "facility = pd.read_csv(\"C:/Users/kjh96/OneDrive/Desktop/국가시설_주소.csv\",encoding=\"CP949\").drop([\"Unnamed: 1\",\"No\"],axis=1)"
   ]
  },
  {
   "cell_type": "code",
   "execution_count": 365,
   "metadata": {},
   "outputs": [],
   "source": [
    "facility[\"법정동\"] = \"\"\n",
    "for i in range(len(facility)) :\n",
    "    facility[\"법정동\"][i] = facility[\"지번주소\"][i].split(\" \")[2]"
   ]
  },
  {
   "cell_type": "code",
   "execution_count": 366,
   "metadata": {},
   "outputs": [],
   "source": [
    "facility = facility[facility[\"지번주소\"].str.contains(\"서울\")]\n",
    "facility_dj = facility[~facility[\"법정동\"].str.contains(\"봉천동|양재동|문래동1가\")]"
   ]
  },
  {
   "cell_type": "code",
   "execution_count": 374,
   "metadata": {},
   "outputs": [],
   "source": [
    "facility_dj.to_csv(\"C:/Users/kjh96/OneDrive/Desktop/국가시설_주소_fin.csv\",encoding=\"CP949\")"
   ]
  },
  {
   "cell_type": "markdown",
   "metadata": {},
   "source": [
    "### 상가유해시설"
   ]
  },
  {
   "cell_type": "code",
   "execution_count": 377,
   "metadata": {},
   "outputs": [],
   "source": [
    "store_dj = pd.read_csv(\"C:/Users/kjh96/OneDrive/Desktop/상가유해시설_주소.csv\",encoding=\"CP949\").drop([\"No\"],axis=1)"
   ]
  },
  {
   "cell_type": "code",
   "execution_count": 379,
   "metadata": {},
   "outputs": [
    {
     "data": {
      "text/plain": [
       "0"
      ]
     },
     "execution_count": 379,
     "metadata": {},
     "output_type": "execute_result"
    }
   ],
   "source": [
    "store_dj['지번주소'].isnull().sum()"
   ]
  },
  {
   "cell_type": "code",
   "execution_count": 380,
   "metadata": {},
   "outputs": [],
   "source": [
    "store_dj[\"법정동\"] = \"\"\n",
    "for i in range(len(facility)) :\n",
    "    store_dj[\"법정동\"][i] = store_dj[\"지번주소\"][i].split(\" \")[2]"
   ]
  },
  {
   "cell_type": "code",
   "execution_count": 382,
   "metadata": {},
   "outputs": [
    {
     "data": {
      "text/plain": [
       "array(['대방동', '상도동', '사당동', '노량진동', '신대방동', '흑석동', '본동', '상도1동', '동작동',\n",
       "       ''], dtype=object)"
      ]
     },
     "execution_count": 382,
     "metadata": {},
     "output_type": "execute_result"
    }
   ],
   "source": [
    "store_dj['법정동'].unique()"
   ]
  },
  {
   "cell_type": "code",
   "execution_count": 383,
   "metadata": {},
   "outputs": [],
   "source": [
    "store_dj.to_csv(\"C:/Users/kjh96/OneDrive/Desktop/상가유해시설_주소_fin.csv\",encoding=\"CP949\")"
   ]
  }
 ],
 "metadata": {
  "kernelspec": {
   "display_name": "Python 3",
   "language": "python",
   "name": "python3"
  },
  "language_info": {
   "codemirror_mode": {
    "name": "ipython",
    "version": 3
   },
   "file_extension": ".py",
   "mimetype": "text/x-python",
   "name": "python",
   "nbconvert_exporter": "python",
   "pygments_lexer": "ipython3",
   "version": "3.7.6"
  }
 },
 "nbformat": 4,
 "nbformat_minor": 4
}
