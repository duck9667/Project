{
 "cells": [
  {
   "cell_type": "markdown",
   "metadata": {},
   "source": [
    "# Crawling img"
   ]
  },
  {
   "cell_type": "code",
   "execution_count": 10,
   "metadata": {},
   "outputs": [],
   "source": [
    "import requests\n",
    "from bs4 import BeautifulSoup\n",
    "import time\n",
    "import urllib.request\n",
    "from selenium.webdriver import Chrome\n",
    "from selenium import webdriver\n",
    "import re     \n",
    "from selenium.webdriver.chrome.options import Options\n",
    "from selenium.webdriver.common.keys import Keys\n",
    "import datetime as dt\n",
    "import pandas as pd"
   ]
  },
  {
   "cell_type": "code",
   "execution_count": 14,
   "metadata": {},
   "outputs": [
    {
     "data": {
      "text/plain": [
       "'C:\\\\Users\\\\kjh96\\\\OneDrive\\\\Desktop\\\\Github\\\\project'"
      ]
     },
     "execution_count": 14,
     "metadata": {},
     "output_type": "execute_result"
    }
   ],
   "source": [
    "pwd"
   ]
  },
  {
   "cell_type": "code",
   "execution_count": 15,
   "metadata": {},
   "outputs": [
    {
     "name": "stdout",
     "output_type": "stream",
     "text": [
      "C:\\Users\\kjh96\\OneDrive\\Desktop\\Github\\project\\Nike_Crawling\n"
     ]
    }
   ],
   "source": [
    "cd C://Users//kjh96//OneDrive//Desktop//Github/project/Nike_Crawling"
   ]
  },
  {
   "cell_type": "code",
   "execution_count": 16,
   "metadata": {},
   "outputs": [],
   "source": [
    "import Product_URL"
   ]
  },
  {
   "cell_type": "code",
   "execution_count": 18,
   "metadata": {},
   "outputs": [
    {
     "ename": "NameError",
     "evalue": "name 'webdriver' is not defined",
     "output_type": "error",
     "traceback": [
      "\u001b[1;31m---------------------------------------------------------------------------\u001b[0m",
      "\u001b[1;31mNameError\u001b[0m                                 Traceback (most recent call last)",
      "\u001b[1;32m<ipython-input-18-312a9076d3e1>\u001b[0m in \u001b[0;36m<module>\u001b[1;34m\u001b[0m\n\u001b[1;32m----> 1\u001b[1;33m \u001b[0mProduct_URL\u001b[0m\u001b[1;33m.\u001b[0m\u001b[0mgetNike\u001b[0m\u001b[1;33m(\u001b[0m\u001b[1;34m\"https://www.nike.com/kr/ko_kr/w/men/fw\"\u001b[0m\u001b[1;33m)\u001b[0m\u001b[1;33m\u001b[0m\u001b[1;33m\u001b[0m\u001b[0m\n\u001b[0m",
      "\u001b[1;32m~\\OneDrive\\Desktop\\Github\\project\\Nike_Crawling\\Product_URL.py\u001b[0m in \u001b[0;36mgetNike\u001b[1;34m(url)\u001b[0m\n\u001b[0;32m     24\u001b[0m \u001b[1;33m\u001b[0m\u001b[0m\n\u001b[0;32m     25\u001b[0m \u001b[1;32mdef\u001b[0m \u001b[0mgetNike\u001b[0m\u001b[1;33m(\u001b[0m\u001b[0murl\u001b[0m\u001b[1;33m)\u001b[0m\u001b[1;33m:\u001b[0m\u001b[1;33m\u001b[0m\u001b[1;33m\u001b[0m\u001b[0m\n\u001b[1;32m---> 26\u001b[1;33m     \u001b[0mbrowser\u001b[0m \u001b[1;33m=\u001b[0m \u001b[0mwebdriver\u001b[0m\u001b[1;33m.\u001b[0m\u001b[0mChrome\u001b[0m\u001b[1;33m(\u001b[0m\u001b[1;34m\"C:/Users/kjh96/OneDrive/Desktop/Github/duck9967/ETC/chromedriver.exe\"\u001b[0m\u001b[1;33m)\u001b[0m\u001b[1;33m\u001b[0m\u001b[1;33m\u001b[0m\u001b[0m\n\u001b[0m\u001b[0;32m     27\u001b[0m     \u001b[0murl\u001b[0m \u001b[1;33m=\u001b[0m \u001b[0murl\u001b[0m\u001b[1;33m\u001b[0m\u001b[1;33m\u001b[0m\u001b[0m\n\u001b[0;32m     28\u001b[0m \u001b[1;33m\u001b[0m\u001b[0m\n",
      "\u001b[1;31mNameError\u001b[0m: name 'webdriver' is not defined"
     ]
    }
   ],
   "source": [
    "Product_URL.getNike(\"https://www.nike.com/kr/ko_kr/w/men/fw\")"
   ]
  },
  {
   "cell_type": "code",
   "execution_count": null,
   "metadata": {},
   "outputs": [],
   "source": []
  },
  {
   "cell_type": "code",
   "execution_count": 9,
   "metadata": {},
   "outputs": [
    {
     "ename": "ModuleNotFoundError",
     "evalue": "No module named 'Product_URL'",
     "output_type": "error",
     "traceback": [
      "\u001b[1;31m---------------------------------------------------------------------------\u001b[0m",
      "\u001b[1;31mModuleNotFoundError\u001b[0m                       Traceback (most recent call last)",
      "\u001b[1;32m<ipython-input-9-4eee4fa86ee1>\u001b[0m in \u001b[0;36m<module>\u001b[1;34m\u001b[0m\n\u001b[1;32m----> 1\u001b[1;33m \u001b[1;32mimport\u001b[0m \u001b[0mProduct_URL\u001b[0m\u001b[1;33m\u001b[0m\u001b[1;33m\u001b[0m\u001b[0m\n\u001b[0m",
      "\u001b[1;31mModuleNotFoundError\u001b[0m: No module named 'Product_URL'"
     ]
    }
   ],
   "source": []
  },
  {
   "cell_type": "code",
   "execution_count": 3,
   "metadata": {},
   "outputs": [
    {
     "ename": "NameError",
     "evalue": "name 'Produck_URL' is not defined",
     "output_type": "error",
     "traceback": [
      "\u001b[1;31m---------------------------------------------------------------------------\u001b[0m",
      "\u001b[1;31mNameError\u001b[0m                                 Traceback (most recent call last)",
      "\u001b[1;32m<ipython-input-3-7a76248b1af6>\u001b[0m in \u001b[0;36m<module>\u001b[1;34m\u001b[0m\n\u001b[1;32m----> 1\u001b[1;33m \u001b[0mProduck_URL\u001b[0m\u001b[1;33m.\u001b[0m\u001b[0mgetNike\u001b[0m\u001b[1;33m(\u001b[0m\u001b[1;33m)\u001b[0m\u001b[1;33m\u001b[0m\u001b[1;33m\u001b[0m\u001b[0m\n\u001b[0m",
      "\u001b[1;31mNameError\u001b[0m: name 'Produck_URL' is not defined"
     ]
    }
   ],
   "source": [
    "Produck_URL.getNike()"
   ]
  },
  {
   "cell_type": "code",
   "execution_count": null,
   "metadata": {},
   "outputs": [],
   "source": []
  },
  {
   "cell_type": "code",
   "execution_count": null,
   "metadata": {},
   "outputs": [],
   "source": [
    "browser = webdriver.Chrome(\"C:/Users/kjh96/OneDrive/Desktop/Github/duck9967/ETC/chromedriver.exe\") \n",
    "url = \"https://www.nike.com\" + link_list[0]\n",
    "browser.get(url)\n",
    "url = browser.page_source\n",
    "html = BeautifulSoup(url,'html.parser')\n",
    "img_list = html.find_all('div', {\"class\" : \"prd-gutter\"})\n",
    "product_name = html.find('meta',id = 'f_title')['content']\n",
    "\n",
    "for i in range(len(img_list)) : \n",
    "    img = html.find_all('div', {\"class\" : \"prd-gutter\"})[i].find('img')['data-product-image']\n",
    "    num = i+1\n",
    "    num = str(num)\n",
    "    savename = './Nike/' + product_name + num + '.jpg'\n",
    "    urllib.request.urlretrieve(img, savename)\n",
    "    \n",
    "# 모든 신발에 대하여 크롤링\n",
    "for i in range(3) : \n",
    "    # 드라이버 실행\n",
    "    options = webdriver.ChromeOptions()\n",
    "    options.add_argument('--headless')\n",
    "    options.add_argument(\"--disable-gpu\")\n",
    "    \n",
    "    browser = webdriver.Chrome(\"C:/Users/kjh96/OneDrive/Desktop/Github/duck9967/ETC/chromedriver.exe\", options = options) \n",
    "    url = \"https://www.nike.com\" + link_list[i]\n",
    "    browser.get(url)\n",
    "    \n",
    "    url = browser.page_source\n",
    "    html = BeautifulSoup(url,'html.parser')\n",
    "\n",
    "    # 이미지 선택\n",
    "    img_list = html.find_all('div', {\"class\" : \"prd-gutter\"})\n",
    "\n",
    "    # 제품 이름\n",
    "    product_name = html.find('meta',id = 'f_title')['content']\n",
    "    product_name\n",
    "\n",
    "    for j in range(len(img_list)) : \n",
    "        img = html.find_all('div', {\"class\" : \"prd-gutter\"})[j].find('img')['data-product-image']\n",
    "        num = j+1\n",
    "        num = str(num)\n",
    "        savename = './Nike/' + product_name +'_' + num + '.jpg'\n",
    "        urllib.request.urlretrieve(img, savename)\n",
    "    \n",
    "    browser.quit()"
   ]
  },
  {
   "cell_type": "code",
   "execution_count": null,
   "metadata": {},
   "outputs": [],
   "source": [
    "def getNike_img(): \n",
    "    \n",
    "    browser = webdriver.Chrome(\"C:/Users/kjh96/OneDrive/Desktop/Github/duck9967/ETC/chromedriver.exe\") \n",
    "    url = \"https://www.nike.com\" + link_list[0]\n",
    "    browser.get(url)\n",
    "    url = browser.page_source\n",
    "    html = BeautifulSoup(url,'html.parser')\n",
    "    img_list = html.find_all('div', {\"class\" : \"prd-gutter\"})\n",
    "    product_name = html.find('meta',id = 'f_title')['content']\n",
    "\n",
    "    for i in range(len(img_list)) : \n",
    "        img = html.find_all('div', {\"class\" : \"prd-gutter\"})[i].find('img')['data-product-image']\n",
    "        num = i+1\n",
    "        num = str(num)\n",
    "        savename = './Nike/' + product_name + num + '.jpg'\n",
    "        urllib.request.urlretrieve(img, savename)\n",
    "\n",
    "    # 모든 신발에 대하여 크롤링\n",
    "    for i in range(3) : \n",
    "        # 드라이버 실행\n",
    "        options = webdriver.ChromeOptions()\n",
    "        options.add_argument('--headless')\n",
    "        options.add_argument(\"--disable-gpu\")\n",
    "\n",
    "        browser = webdriver.Chrome(\"C:/Users/kjh96/OneDrive/Desktop/Github/duck9967/ETC/chromedriver.exe\", options = options) \n",
    "        url = \"https://www.nike.com\" + link_list[i]\n",
    "        browser.get(url)\n",
    "\n",
    "        url = browser.page_source\n",
    "        html = BeautifulSoup(url,'html.parser')\n",
    "\n",
    "        # 이미지 선택\n",
    "        img_list = html.find_all('div', {\"class\" : \"prd-gutter\"})\n",
    "\n",
    "        # 제품 이름\n",
    "        product_name = html.find('meta',id = 'f_title')['content']\n",
    "        product_name\n",
    "\n",
    "        for j in range(len(img_list)) : \n",
    "            img = html.find_all('div', {\"class\" : \"prd-gutter\"})[j].find('img')['data-product-image']\n",
    "            num = j+1\n",
    "            num = str(num)\n",
    "            savename = './Nike/' + product_name +'_' + num + '.jpg'\n",
    "            urllib.request.urlretrieve(img, savename)\n",
    "\n",
    "        browser.quit()"
   ]
  }
 ],
 "metadata": {
  "kernelspec": {
   "display_name": "Python 3",
   "language": "python",
   "name": "python3"
  },
  "language_info": {
   "codemirror_mode": {
    "name": "ipython",
    "version": 3
   },
   "file_extension": ".py",
   "mimetype": "text/x-python",
   "name": "python",
   "nbconvert_exporter": "python",
   "pygments_lexer": "ipython3",
   "version": "3.7.6"
  }
 },
 "nbformat": 4,
 "nbformat_minor": 4
}
