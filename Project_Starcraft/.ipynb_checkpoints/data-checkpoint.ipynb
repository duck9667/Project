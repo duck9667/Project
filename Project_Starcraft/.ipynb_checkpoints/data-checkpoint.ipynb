{
 "cells": [
  {
   "cell_type": "markdown",
   "metadata": {},
   "source": [
    "# 데이터 로드  \n",
    "-----  \n",
    ">game_id : 경기 구분 기호  \n",
    "winner : player 1의 승리 확률  \n",
    "time : 경기 시간, 마침표(.)로 분과 초가 구분됩니다. ex) 2.24 = 2분 24초  \n",
    "\n",
    ">player : 선수  \n",
    "1) 0: player 0  \n",
    "2) 1: player 1  \n",
    "\n",
    ">species : 종족  \n",
    "1) T: 테란  \n",
    "2) P: 프로토스  \n",
    "3) Z: 저그  \n",
    "\n",
    ">event : 행동 종류  \n",
    "event_contents : 행동 상세  \n",
    "1) Ability : 생산, 공격 등 선수의 주요 행동  \n",
    "2) AddToControlGroup : 부대에 추가  \n",
    "3) Camera : 시점 선택 \n",
    "4) ControlGroup : 부대 행동 \n",
    "5) GetControlGroup : 부대 불러오기  \n",
    "6) Right Click : 마우스 우클릭  \n",
    "7) Selection : 객체 선택  \n",
    "8) SetControlGroup : 부대 지정  "
   ]
  },
  {
   "cell_type": "code",
   "execution_count": 1,
   "metadata": {},
   "outputs": [
    {
     "data": {
      "text/plain": [
       "'C:\\\\Users\\\\kjh96\\\\Github\\\\Project_Starcraft'"
      ]
     },
     "execution_count": 1,
     "metadata": {},
     "output_type": "execute_result"
    }
   ],
   "source": [
    "pwd"
   ]
  },
  {
   "cell_type": "code",
   "execution_count": 2,
   "metadata": {},
   "outputs": [
    {
     "name": "stdout",
     "output_type": "stream",
     "text": [
      " C 드라이브의 볼륨: Windows10\n",
      " 볼륨 일련 번호: 96C5-6AC9\n",
      "\n",
      " C:\\Users\\kjh96\\Github\\Project_Starcraft 디렉터리\n",
      "\n",
      "2020-04-13  오후 05:00    <DIR>          .\n",
      "2020-04-13  오후 05:00    <DIR>          ..\n",
      "2020-04-13  오후 05:00    <DIR>          .ipynb_checkpoints\n",
      "2020-03-31  오후 05:38            48,553 data.ipynb\n",
      "2020-03-31  오후 03:33       830,026,090 data.zip\n",
      "2020-03-31  오후 03:57           151,099 sample_submission.csv\n",
      "2020-03-31  오후 03:57     1,744,583,431 test.csv\n",
      "2020-03-31  오후 03:58     4,190,426,680 train.csv\n",
      "               5개 파일       6,765,235,853 바이트\n",
      "               3개 디렉터리  32,765,444,096 바이트 남음\n"
     ]
    }
   ],
   "source": [
    "ls"
   ]
  },
  {
   "cell_type": "code",
   "execution_count": 3,
   "metadata": {},
   "outputs": [],
   "source": [
    "import zipfile\n",
    "import os\n",
    "import pandas as pd"
   ]
  },
  {
   "cell_type": "code",
   "execution_count": 4,
   "metadata": {},
   "outputs": [],
   "source": [
    "# my_zip = zipfile.ZipFile('./data.zip')\n",
    "# my_zip.namelist()"
   ]
  },
  {
   "cell_type": "code",
   "execution_count": 5,
   "metadata": {},
   "outputs": [],
   "source": [
    "# zipfile.ZipFile('./data.zip').extractall()"
   ]
  },
  {
   "cell_type": "code",
   "execution_count": null,
   "metadata": {},
   "outputs": [],
   "source": [
    "train_data = pd.read_csv('train.csv')"
   ]
  },
  {
   "cell_type": "code",
   "execution_count": null,
   "metadata": {},
   "outputs": [],
   "source": [
    "test_data = pd.read_csv('test.csv')"
   ]
  },
  {
   "cell_type": "code",
   "execution_count": null,
   "metadata": {},
   "outputs": [],
   "source": [
    "train_data.head()"
   ]
  },
  {
   "cell_type": "code",
   "execution_count": null,
   "metadata": {},
   "outputs": [],
   "source": [
    "test_data.head()"
   ]
  },
  {
   "cell_type": "code",
   "execution_count": null,
   "metadata": {},
   "outputs": [],
   "source": [
    "train_data.info\n",
    "train_data.dtypes"
   ]
  },
  {
   "cell_type": "code",
   "execution_count": null,
   "metadata": {},
   "outputs": [],
   "source": [
    "train_data.columns"
   ]
  },
  {
   "cell_type": "code",
   "execution_count": null,
   "metadata": {},
   "outputs": [],
   "source": [
    "train_data = pd.DataFrame(train_data)\n",
    "train_data.describe()"
   ]
  },
  {
   "cell_type": "code",
   "execution_count": null,
   "metadata": {},
   "outputs": [],
   "source": [
    "train_data.shape"
   ]
  },
  {
   "cell_type": "code",
   "execution_count": null,
   "metadata": {},
   "outputs": [],
   "source": [
    "train_data.head(50)"
   ]
  },
  {
   "cell_type": "code",
   "execution_count": null,
   "metadata": {},
   "outputs": [],
   "source": [
    "len(train_data['game_id'].value_counts())"
   ]
  },
  {
   "cell_type": "code",
   "execution_count": null,
   "metadata": {
    "scrolled": true
   },
   "outputs": [],
   "source": [
    "train_data['winner'].value_counts()"
   ]
  },
  {
   "cell_type": "code",
   "execution_count": null,
   "metadata": {},
   "outputs": [],
   "source": [
    "train_data['time'].value_counts()"
   ]
  },
  {
   "cell_type": "code",
   "execution_count": null,
   "metadata": {},
   "outputs": [],
   "source": [
    "train_data['player'].value_counts()"
   ]
  },
  {
   "cell_type": "code",
   "execution_count": null,
   "metadata": {},
   "outputs": [],
   "source": [
    "%time train_data.groupby('event').count()"
   ]
  },
  {
   "cell_type": "code",
   "execution_count": null,
   "metadata": {},
   "outputs": [],
   "source": []
  },
  {
   "cell_type": "code",
   "execution_count": null,
   "metadata": {},
   "outputs": [],
   "source": []
  }
 ],
 "metadata": {
  "kernelspec": {
   "display_name": "Python 3",
   "language": "python",
   "name": "python3"
  },
  "language_info": {
   "codemirror_mode": {
    "name": "ipython",
    "version": 3
   },
   "file_extension": ".py",
   "mimetype": "text/x-python",
   "name": "python",
   "nbconvert_exporter": "python",
   "pygments_lexer": "ipython3",
   "version": "3.7.6"
  }
 },
 "nbformat": 4,
 "nbformat_minor": 4
}
