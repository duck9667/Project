{
 "cells": [
  {
   "cell_type": "markdown",
   "metadata": {},
   "source": [
    "# 데이터 로드  \n",
    "-----  \n",
    ">game_id : 경기 구분 기호  \n",
    "winner : player 1의 승리 확률  \n",
    "time : 경기 시간, 마침표(.)로 분과 초가 구분됩니다. ex) 2.24 = 2분 24초  \n",
    "\n",
    ">player : 선수  \n",
    "1) 0: player 0  \n",
    "2) 1: player 1  \n",
    "\n",
    ">species : 종족  \n",
    "1) T: 테란  \n",
    "2) P: 프로토스  \n",
    "3) Z: 저그  \n",
    "\n",
    ">event : 행동 종류  \n",
    "event_contents : 행동 상세  \n",
    "1) Ability : 생산, 공격 등 선수의 주요 행동  \n",
    "2) AddToControlGroup : 부대에 추가  \n",
    "3) Camera : 시점 선택  \n",
    "4) ControlGroup : 부대 행동  \n",
    "5) GetControlGroup : 부대 불러오기  \n",
    "6) Right Click : 마우스 우클릭  \n",
    "7) Selection : 객체 선택  \n",
    "8) SetControlGroup : 부대 지정  "
   ]
  },
  {
   "cell_type": "code",
   "execution_count": 1,
   "metadata": {},
   "outputs": [
    {
     "data": {
      "text/plain": [
       "'C:\\\\Users\\\\kjh96\\\\Github\\\\Project_Starcraft'"
      ]
     },
     "execution_count": 1,
     "metadata": {},
     "output_type": "execute_result"
    }
   ],
   "source": [
    "pwd"
   ]
  },
  {
   "cell_type": "code",
   "execution_count": 2,
   "metadata": {},
   "outputs": [
    {
     "name": "stdout",
     "output_type": "stream",
     "text": [
      " C 드라이브의 볼륨: Windows10\n",
      " 볼륨 일련 번호: 96C5-6AC9\n",
      "\n",
      " C:\\Users\\kjh96\\Github\\Project_Starcraft 디렉터리\n",
      "\n",
      "2020-04-13  오후 05:08    <DIR>          .\n",
      "2020-04-13  오후 05:08    <DIR>          ..\n",
      "2020-04-13  오후 05:02    <DIR>          .ipynb_checkpoints\n",
      "2020-04-13  오후 05:08             8,991 data.ipynb\n",
      "2020-03-31  오후 03:33       830,026,090 data.zip\n",
      "2020-03-31  오후 03:57           151,099 sample_submission.csv\n",
      "2020-03-31  오후 03:57     1,744,583,431 test.csv\n",
      "2020-03-31  오후 03:58     4,190,426,680 train.csv\n",
      "               5개 파일       6,765,196,291 바이트\n",
      "               3개 디렉터리  32,752,267,264 바이트 남음\n"
     ]
    }
   ],
   "source": [
    "ls"
   ]
  },
  {
   "cell_type": "code",
   "execution_count": 5,
   "metadata": {},
   "outputs": [],
   "source": [
    "import zipfile\n",
    "import os\n",
    "import pandas as pd\n",
    "import time\n",
    "import pyarrow\n",
    "import pickle"
   ]
  },
  {
   "cell_type": "code",
   "execution_count": 10,
   "metadata": {},
   "outputs": [
    {
     "name": "stdout",
     "output_type": "stream",
     "text": [
      "Collecting pyarrow\n",
      "  Downloading pyarrow-0.16.0-cp37-cp37m-win_amd64.whl (20.4 MB)\n",
      "Requirement already satisfied: numpy>=1.14 in c:\\anaconda3\\lib\\site-packages (from pyarrow) (1.18.1)\n",
      "Requirement already satisfied: six>=1.0.0 in c:\\anaconda3\\lib\\site-packages (from pyarrow) (1.14.0)\n",
      "Installing collected packages: pyarrow\n",
      "Successfully installed pyarrow-0.16.0\n",
      "Note: you may need to restart the kernel to use updated packages.\n"
     ]
    }
   ],
   "source": [
    "#pip install pyarrow"
   ]
  },
  {
   "cell_type": "code",
   "execution_count": 4,
   "metadata": {},
   "outputs": [],
   "source": [
    "# my_zip = zipfile.ZipFile('./data.zip')\n",
    "# my_zip.namelist()"
   ]
  },
  {
   "cell_type": "code",
   "execution_count": 5,
   "metadata": {},
   "outputs": [],
   "source": [
    "# zipfile.ZipFile('./data.zip').extractall()"
   ]
  },
  {
   "cell_type": "code",
   "execution_count": 3,
   "metadata": {},
   "outputs": [
    {
     "name": "stdout",
     "output_type": "stream",
     "text": [
      "Wall time: 4min 20s\n"
     ]
    }
   ],
   "source": [
    "%%time\n",
    "train_data = pd.read_csv('train.csv')\n",
    "test_data = pd.read_csv('test.csv')"
   ]
  },
  {
   "cell_type": "code",
   "execution_count": 4,
   "metadata": {},
   "outputs": [],
   "source": [
    "# feather 파일로 저장. \n",
    "train_data.to_feather('train.feather')                \n",
    "test_data.to_feather('test.feather')       "
   ]
  },
  {
   "cell_type": "code",
   "execution_count": null,
   "metadata": {},
   "outputs": [],
   "source": [
    "%%time\n",
    "train_data = pd.read_feather('train.feather')\n",
    "test_data = pd.read_feather('test.feather')"
   ]
  },
  {
   "cell_type": "code",
   "execution_count": 16,
   "metadata": {},
   "outputs": [
    {
     "data": {
      "text/html": [
       "<div>\n",
       "<style scoped>\n",
       "    .dataframe tbody tr th:only-of-type {\n",
       "        vertical-align: middle;\n",
       "    }\n",
       "\n",
       "    .dataframe tbody tr th {\n",
       "        vertical-align: top;\n",
       "    }\n",
       "\n",
       "    .dataframe thead th {\n",
       "        text-align: right;\n",
       "    }\n",
       "</style>\n",
       "<table border=\"1\" class=\"dataframe\">\n",
       "  <thead>\n",
       "    <tr style=\"text-align: right;\">\n",
       "      <th></th>\n",
       "      <th>game_id</th>\n",
       "      <th>winner</th>\n",
       "      <th>time</th>\n",
       "      <th>player</th>\n",
       "      <th>species</th>\n",
       "      <th>event</th>\n",
       "      <th>event_contents</th>\n",
       "    </tr>\n",
       "  </thead>\n",
       "  <tbody>\n",
       "    <tr>\n",
       "      <th>0</th>\n",
       "      <td>0</td>\n",
       "      <td>1</td>\n",
       "      <td>0.00</td>\n",
       "      <td>0</td>\n",
       "      <td>T</td>\n",
       "      <td>Camera</td>\n",
       "      <td>at (145.25, 21.5078125)</td>\n",
       "    </tr>\n",
       "    <tr>\n",
       "      <th>1</th>\n",
       "      <td>0</td>\n",
       "      <td>1</td>\n",
       "      <td>0.00</td>\n",
       "      <td>1</td>\n",
       "      <td>T</td>\n",
       "      <td>Camera</td>\n",
       "      <td>at (22.75, 147.0078125)</td>\n",
       "    </tr>\n",
       "    <tr>\n",
       "      <th>2</th>\n",
       "      <td>0</td>\n",
       "      <td>1</td>\n",
       "      <td>0.02</td>\n",
       "      <td>0</td>\n",
       "      <td>T</td>\n",
       "      <td>Selection</td>\n",
       "      <td>['OrbitalCommand [3080001]']</td>\n",
       "    </tr>\n",
       "    <tr>\n",
       "      <th>3</th>\n",
       "      <td>0</td>\n",
       "      <td>1</td>\n",
       "      <td>0.02</td>\n",
       "      <td>0</td>\n",
       "      <td>T</td>\n",
       "      <td>Ability</td>\n",
       "      <td>(1360) - TrainSCV</td>\n",
       "    </tr>\n",
       "    <tr>\n",
       "      <th>4</th>\n",
       "      <td>0</td>\n",
       "      <td>1</td>\n",
       "      <td>0.14</td>\n",
       "      <td>0</td>\n",
       "      <td>T</td>\n",
       "      <td>Camera</td>\n",
       "      <td>at (142.99609375, 24.50390625)</td>\n",
       "    </tr>\n",
       "  </tbody>\n",
       "</table>\n",
       "</div>"
      ],
      "text/plain": [
       "   game_id  winner  time  player species      event  \\\n",
       "0        0       1  0.00       0       T     Camera   \n",
       "1        0       1  0.00       1       T     Camera   \n",
       "2        0       1  0.02       0       T  Selection   \n",
       "3        0       1  0.02       0       T    Ability   \n",
       "4        0       1  0.14       0       T     Camera   \n",
       "\n",
       "                   event_contents  \n",
       "0         at (145.25, 21.5078125)  \n",
       "1         at (22.75, 147.0078125)  \n",
       "2    ['OrbitalCommand [3080001]']  \n",
       "3               (1360) - TrainSCV  \n",
       "4  at (142.99609375, 24.50390625)  "
      ]
     },
     "execution_count": 16,
     "metadata": {},
     "output_type": "execute_result"
    }
   ],
   "source": [
    "train_data.head()"
   ]
  },
  {
   "cell_type": "code",
   "execution_count": 17,
   "metadata": {},
   "outputs": [
    {
     "data": {
      "text/html": [
       "<div>\n",
       "<style scoped>\n",
       "    .dataframe tbody tr th:only-of-type {\n",
       "        vertical-align: middle;\n",
       "    }\n",
       "\n",
       "    .dataframe tbody tr th {\n",
       "        vertical-align: top;\n",
       "    }\n",
       "\n",
       "    .dataframe thead th {\n",
       "        text-align: right;\n",
       "    }\n",
       "</style>\n",
       "<table border=\"1\" class=\"dataframe\">\n",
       "  <thead>\n",
       "    <tr style=\"text-align: right;\">\n",
       "      <th></th>\n",
       "      <th>game_id</th>\n",
       "      <th>time</th>\n",
       "      <th>player</th>\n",
       "      <th>species</th>\n",
       "      <th>event</th>\n",
       "      <th>event_contents</th>\n",
       "    </tr>\n",
       "  </thead>\n",
       "  <tbody>\n",
       "    <tr>\n",
       "      <th>0</th>\n",
       "      <td>38872</td>\n",
       "      <td>0.00</td>\n",
       "      <td>0</td>\n",
       "      <td>P</td>\n",
       "      <td>Camera</td>\n",
       "      <td>at (22.25, 81.5078125)</td>\n",
       "    </tr>\n",
       "    <tr>\n",
       "      <th>1</th>\n",
       "      <td>38872</td>\n",
       "      <td>0.00</td>\n",
       "      <td>1</td>\n",
       "      <td>P</td>\n",
       "      <td>Camera</td>\n",
       "      <td>at (120.25, 153.83984375)</td>\n",
       "    </tr>\n",
       "    <tr>\n",
       "      <th>2</th>\n",
       "      <td>38872</td>\n",
       "      <td>0.01</td>\n",
       "      <td>1</td>\n",
       "      <td>P</td>\n",
       "      <td>Selection</td>\n",
       "      <td>['Nexus [3100001]']</td>\n",
       "    </tr>\n",
       "    <tr>\n",
       "      <th>3</th>\n",
       "      <td>38872</td>\n",
       "      <td>0.01</td>\n",
       "      <td>1</td>\n",
       "      <td>P</td>\n",
       "      <td>Ability</td>\n",
       "      <td>(15E0) - TrainProbe</td>\n",
       "    </tr>\n",
       "    <tr>\n",
       "      <th>4</th>\n",
       "      <td>38872</td>\n",
       "      <td>0.01</td>\n",
       "      <td>1</td>\n",
       "      <td>P</td>\n",
       "      <td>AddToControlGroup</td>\n",
       "      <td>NaN</td>\n",
       "    </tr>\n",
       "  </tbody>\n",
       "</table>\n",
       "</div>"
      ],
      "text/plain": [
       "   game_id  time  player species              event             event_contents\n",
       "0    38872  0.00       0       P             Camera     at (22.25, 81.5078125)\n",
       "1    38872  0.00       1       P             Camera  at (120.25, 153.83984375)\n",
       "2    38872  0.01       1       P          Selection        ['Nexus [3100001]']\n",
       "3    38872  0.01       1       P            Ability        (15E0) - TrainProbe\n",
       "4    38872  0.01       1       P  AddToControlGroup                        NaN"
      ]
     },
     "execution_count": 17,
     "metadata": {},
     "output_type": "execute_result"
    }
   ],
   "source": [
    "test_data.head()"
   ]
  },
  {
   "cell_type": "code",
   "execution_count": 18,
   "metadata": {},
   "outputs": [
    {
     "data": {
      "text/plain": [
       "game_id             int64\n",
       "winner              int64\n",
       "time              float64\n",
       "player              int64\n",
       "species            object\n",
       "event              object\n",
       "event_contents     object\n",
       "dtype: object"
      ]
     },
     "execution_count": 18,
     "metadata": {},
     "output_type": "execute_result"
    }
   ],
   "source": [
    "train_data.dtypes"
   ]
  },
  {
   "cell_type": "code",
   "execution_count": 22,
   "metadata": {},
   "outputs": [
    {
     "data": {
      "text/plain": [
       "(67091776, 7)"
      ]
     },
     "execution_count": 22,
     "metadata": {},
     "output_type": "execute_result"
    }
   ],
   "source": [
    "train_data.shape"
   ]
  },
  {
   "cell_type": "code",
   "execution_count": 23,
   "metadata": {},
   "outputs": [
    {
     "data": {
      "text/plain": [
       "24042    5164\n",
       "38766    5153\n",
       "3094     5112\n",
       "38166    4954\n",
       "3474     4951\n",
       "         ... \n",
       "30884      48\n",
       "4812       48\n",
       "19617      48\n",
       "14675      48\n",
       "3580       48\n",
       "Name: game_id, Length: 38872, dtype: int64"
      ]
     },
     "execution_count": 23,
     "metadata": {},
     "output_type": "execute_result"
    }
   ],
   "source": [
    "train_data['game_id'].value_counts()"
   ]
  },
  {
   "cell_type": "code",
   "execution_count": 24,
   "metadata": {},
   "outputs": [
    {
     "data": {
      "text/plain": [
       "2.44     151635\n",
       "3.28     151259\n",
       "3.36     151224\n",
       "2.36     150359\n",
       "3.19     150345\n",
       "          ...  \n",
       "10.55       959\n",
       "10.56       673\n",
       "10.57       538\n",
       "10.58       396\n",
       "10.59       143\n",
       "Name: time, Length: 660, dtype: int64"
      ]
     },
     "execution_count": 24,
     "metadata": {},
     "output_type": "execute_result"
    }
   ],
   "source": [
    "train_data['time'].value_counts()"
   ]
  },
  {
   "cell_type": "code",
   "execution_count": 21,
   "metadata": {},
   "outputs": [
    {
     "data": {
      "text/plain": [
       "0    33594869\n",
       "1    33496907\n",
       "Name: player, dtype: int64"
      ]
     },
     "execution_count": 21,
     "metadata": {},
     "output_type": "execute_result"
    }
   ],
   "source": [
    "train_data['player'].value_counts()"
   ]
  },
  {
   "cell_type": "code",
   "execution_count": 25,
   "metadata": {},
   "outputs": [
    {
     "data": {
      "text/plain": [
       "Camera               31629407\n",
       "Right Click          11565877\n",
       "GetControlGroup      10051180\n",
       "Selection             9526159\n",
       "Ability               3798390\n",
       "SetControlGroup        340704\n",
       "AddToControlGroup      149340\n",
       "ControlGroup            30719\n",
       "Name: event, dtype: int64"
      ]
     },
     "execution_count": 25,
     "metadata": {},
     "output_type": "execute_result"
    }
   ],
   "source": [
    "train_data['event'].value_counts()"
   ]
  },
  {
   "cell_type": "code",
   "execution_count": 27,
   "metadata": {},
   "outputs": [],
   "source": [
    "import matplotlib.pyplot as plt\n",
    "%matplotlib inline"
   ]
  },
  {
   "cell_type": "code",
   "execution_count": 8,
   "metadata": {},
   "outputs": [
    {
     "data": {
      "text/plain": [
       "'C:\\\\Users\\\\kjh96\\\\Github\\\\Project_Starcraft'"
      ]
     },
     "execution_count": 8,
     "metadata": {},
     "output_type": "execute_result"
    }
   ],
   "source": [
    "pwd"
   ]
  },
  {
   "cell_type": "code",
   "execution_count": 11,
   "metadata": {},
   "outputs": [
    {
     "name": "stdout",
     "output_type": "stream",
     "text": [
      " C 드라이브의 볼륨: Windows10\n",
      " 볼륨 일련 번호: 96C5-6AC9\n",
      "\n",
      " C:\\Users\\kjh96\\Github\\Project_Starcraft 디렉터리\n",
      "\n",
      "2020-04-14  오후 05:34    <DIR>          .\n",
      "2020-04-14  오후 05:34    <DIR>          ..\n",
      "2020-04-13  오후 05:56    <DIR>          .ipynb_checkpoints\n",
      "2020-04-13  오후 11:16            24,804 data memory reduce.ipynb\n",
      "2020-04-14  오후 05:34            21,089 data.ipynb\n",
      "2020-04-13  오후 05:59     5,732,812,224 train.feather\n",
      "               3개 파일       5,732,858,117 바이트\n",
      "               3개 디렉터리  12,411,432,960 바이트 남음\n"
     ]
    }
   ],
   "source": [
    "ls"
   ]
  },
  {
   "cell_type": "code",
   "execution_count": null,
   "metadata": {},
   "outputs": [],
   "source": [
    "train = pd.read_feather(\"train.feather\")"
   ]
  },
  {
   "cell_type": "code",
   "execution_count": null,
   "metadata": {},
   "outputs": [],
   "source": []
  }
 ],
 "metadata": {
  "kernelspec": {
   "display_name": "Python 3",
   "language": "python",
   "name": "python3"
  },
  "language_info": {
   "codemirror_mode": {
    "name": "ipython",
    "version": 3
   },
   "file_extension": ".py",
   "mimetype": "text/x-python",
   "name": "python",
   "nbconvert_exporter": "python",
   "pygments_lexer": "ipython3",
   "version": "3.7.6"
  }
 },
 "nbformat": 4,
 "nbformat_minor": 4
}
