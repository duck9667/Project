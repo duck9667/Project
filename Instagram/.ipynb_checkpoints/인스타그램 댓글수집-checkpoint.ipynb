{
 "cells": [
  {
   "cell_type": "code",
   "execution_count": 216,
   "metadata": {},
   "outputs": [],
   "source": [
    "import time\n",
    "import datetime\n",
    "import pandas as pd\n",
    "import random\n",
    "from selenium import webdriver\n",
    "from slacker import Slacker\n",
    "from bs4 import BeautifulSoup\n",
    "import urllib\n",
    "import requests\n",
    "from urllib.parse import quote\n",
    "from selenium.common.exceptions import NoSuchElementException\n",
    "from selenium.webdriver.common.keys import Keys\n",
    "import maya"
   ]
  },
  {
   "cell_type": "code",
   "execution_count": 217,
   "metadata": {},
   "outputs": [],
   "source": [
    "id = 'duck9667@kakao.com' # 'kjh9667@gmail.com'\n",
    "password = '비밀번호'"
   ]
  },
  {
   "cell_type": "code",
   "execution_count": 218,
   "metadata": {},
   "outputs": [],
   "source": [
    "options = webdriver.ChromeOptions()\n",
    "# options.add_argument('headless')\n",
    "options.add_argument('window-size=1920x1080')\n",
    "options.add_argument(\"disable-gpu\")\n",
    "\n",
    "browser = webdriver.Chrome(r'C:\\Users\\82109\\Desktop\\곽종현\\03 Github\\duck9967\\ETC\\chromedriver.exe', options=options)\n",
    "browser.execute_script(\"Object.defineProperty(navigator, 'plugins', {get: function() {return[1, 2, 3, 4, 5]}})\")\n",
    "browser.execute_script(\"Object.defineProperty(navigator, 'languages', {get: function() {return ['ko-KR', 'ko']}})\")\n",
    "browser.execute_script(\n",
    "    \"const getParameter = WebGLRenderingContext.getParameter;WebGLRenderingContext.prototype.getParameter = \\\n",
    "    function(parameter) {if (parameter === 37445) {return 'NVIDIA Corporation'} if (parameter === 37446) \\\n",
    "    {return 'NVIDIA GeForce GTX 980 Ti OpenGL Engine';}return getParameter(parameter);};\")\n",
    "\n",
    "browser.get('https://instagram.com/')\n",
    "time.sleep(2)\n",
    "\n",
    "login_id = browser.find_element_by_name('username')\n",
    "login_id.send_keys(id)\n",
    "time.sleep(2)\n",
    "\n",
    "login_id = browser.find_element_by_name('password')\n",
    "login_id.send_keys(password)\n",
    "login_id.submit()"
   ]
  },
  {
   "cell_type": "code",
   "execution_count": 220,
   "metadata": {},
   "outputs": [],
   "source": [
    "browser.get('https://www.instagram.com/wmr__official/')\n",
    "feed = browser.find_elements_by_xpath('//*[@id=\"react-root\"]/section/main/div/div[3]/article/div/div/div/div[1]/a/div[1]/div[2]')\n",
    "feed[0].click()"
   ]
  },
  {
   "cell_type": "code",
   "execution_count": 221,
   "metadata": {
    "collapsed": true,
    "jupyter": {
     "outputs_hidden": true
    }
   },
   "outputs": [
    {
     "name": "stdout",
     "output_type": "stream",
     "text": [
      "1\n",
      "2\n",
      "3\n",
      "4\n",
      "5\n",
      "6\n",
      "7\n",
      "8\n",
      "9\n",
      "10\n",
      "11\n",
      "12\n",
      "13\n",
      "14\n",
      "15\n",
      "16\n",
      "17\n",
      "18\n",
      "19\n",
      "20\n",
      "21\n",
      "22\n",
      "23\n",
      "24\n",
      "25\n",
      "26\n",
      "27\n",
      "28\n",
      "29\n",
      "30\n",
      "31\n",
      "32\n",
      "33\n",
      "34\n",
      "35\n",
      "36\n",
      "37\n",
      "38\n",
      "39\n",
      "40\n",
      "41\n",
      "42\n",
      "43\n",
      "44\n",
      "45\n",
      "46\n",
      "47\n",
      "48\n",
      "49\n",
      "50\n",
      "51\n",
      "52\n",
      "53\n",
      "54\n",
      "55\n",
      "56\n",
      "56\n"
     ]
    }
   ],
   "source": [
    "i = 0\n",
    "while True : \n",
    "    try :\n",
    "        add = browser.find_elements_by_xpath('/html/body/div[5]/div[2]/div/article/div[3]/div[1]/ul/li/div/button/span')\n",
    "        add[0].click()\n",
    "        i = i+1\n",
    "        time.sleep(1)\n",
    "        print(i)\n",
    "    except IndexError :\n",
    "        print(i)\n",
    "        break"
   ]
  },
  {
   "cell_type": "code",
   "execution_count": 222,
   "metadata": {},
   "outputs": [],
   "source": [
    "soup = BeautifulSoup(browser.page_source,'html.parser')"
   ]
  },
  {
   "cell_type": "code",
   "execution_count": 264,
   "metadata": {},
   "outputs": [],
   "source": [
    "ID_list = []\n",
    "Comment_list = []\n",
    "Datetime_list = []\n",
    "for i in range(len(soup.find_all('ul', {\"class\" : \"Mr508\"}))) : \n",
    "    ID = soup.find_all('ul', {\"class\" : \"Mr508\"})[i].find('span').text\n",
    "    ID_list.append(ID)\n",
    "    Comment = soup.find_all('ul', {\"class\" : \"Mr508\"})[i].find_all('span')[1].text\n",
    "    Comment_list.append(Comment)\n",
    "    Datatime = soup.find_all('ul', {\"class\" : \"Mr508\"})[i].time['datetime']\n",
    "    Datetime_list.append(Datatime)"
   ]
  },
  {
   "cell_type": "code",
   "execution_count": null,
   "metadata": {},
   "outputs": [],
   "source": [
    "#12월의 기프트🏷\n",
    "모델 : DD3035-200 (나이키 x 사카이 베이퍼와플)\n",
    "사이즈 : 245\n",
    "모델 : CZ9084-001 (나이키 x 스투시 에어포스1)\n",
    "사이즈 : 235\n",
    "모델 : CT7875-994 (나이키 에어포스1)\n",
    "사이즈 : 250"
   ]
  },
  {
   "cell_type": "code",
   "execution_count": 312,
   "metadata": {},
   "outputs": [
    {
     "data": {
      "text/html": [
       "<div>\n",
       "<style scoped>\n",
       "    .dataframe tbody tr th:only-of-type {\n",
       "        vertical-align: middle;\n",
       "    }\n",
       "\n",
       "    .dataframe tbody tr th {\n",
       "        vertical-align: top;\n",
       "    }\n",
       "\n",
       "    .dataframe thead th {\n",
       "        text-align: right;\n",
       "    }\n",
       "</style>\n",
       "<table border=\"1\" class=\"dataframe\">\n",
       "  <thead>\n",
       "    <tr style=\"text-align: right;\">\n",
       "      <th></th>\n",
       "      <th>ID</th>\n",
       "      <th>Comment</th>\n",
       "      <th>Datetime</th>\n",
       "    </tr>\n",
       "  </thead>\n",
       "  <tbody>\n",
       "    <tr>\n",
       "      <th>0</th>\n",
       "      <td>tab.ody</td>\n",
       "      <td>@___aurorax @sheep_go_nan @viva_1104 CZ9084-00...</td>\n",
       "      <td>2020-12-25T13:14:25.000Z</td>\n",
       "    </tr>\n",
       "    <tr>\n",
       "      <th>1</th>\n",
       "      <td>dulcinea____</td>\n",
       "      <td>DD3035-200(나이키×사카이 베이퍼와플) 😻😻😻딱 내 사이즈닷! 245‼️‼️...</td>\n",
       "      <td>2020-12-25T12:54:07.000Z</td>\n",
       "    </tr>\n",
       "    <tr>\n",
       "      <th>2</th>\n",
       "      <td>v_miso_v</td>\n",
       "      <td>@hayanmojji @garden_s_ @mogggg_0818 @hyeonm499...</td>\n",
       "      <td>2020-12-25T13:50:52.000Z</td>\n",
       "    </tr>\n",
       "    <tr>\n",
       "      <th>3</th>\n",
       "      <td>woorigeun</td>\n",
       "      <td>DD3035-200(나이키x사카이 베이퍼 와플) 크리스마스 선물 주세요 ㅜ 다른 사...</td>\n",
       "      <td>2020-12-25T13:52:36.000Z</td>\n",
       "    </tr>\n",
       "    <tr>\n",
       "      <th>4</th>\n",
       "      <td>tkdguq_</td>\n",
       "      <td>@kwagseoyoon @s_yeop_02 @wonisgie DD3035-200 (...</td>\n",
       "      <td>2020-12-25T13:14:36.000Z</td>\n",
       "    </tr>\n",
       "  </tbody>\n",
       "</table>\n",
       "</div>"
      ],
      "text/plain": [
       "             ID                                            Comment  \\\n",
       "0       tab.ody  @___aurorax @sheep_go_nan @viva_1104 CZ9084-00...   \n",
       "1  dulcinea____  DD3035-200(나이키×사카이 베이퍼와플) 😻😻😻딱 내 사이즈닷! 245‼️‼️...   \n",
       "2      v_miso_v  @hayanmojji @garden_s_ @mogggg_0818 @hyeonm499...   \n",
       "3     woorigeun  DD3035-200(나이키x사카이 베이퍼 와플) 크리스마스 선물 주세요 ㅜ 다른 사...   \n",
       "4       tkdguq_  @kwagseoyoon @s_yeop_02 @wonisgie DD3035-200 (...   \n",
       "\n",
       "                   Datetime  \n",
       "0  2020-12-25T13:14:25.000Z  \n",
       "1  2020-12-25T12:54:07.000Z  \n",
       "2  2020-12-25T13:50:52.000Z  \n",
       "3  2020-12-25T13:52:36.000Z  \n",
       "4  2020-12-25T13:14:36.000Z  "
      ]
     },
     "execution_count": 312,
     "metadata": {},
     "output_type": "execute_result"
    }
   ],
   "source": [
    "df = pd.DataFrame({\"ID\" : ID_list, \"Comment\" : Comment_list, \"Datetime\" : Datetime_list})\n",
    "df.head()"
   ]
  },
  {
   "cell_type": "code",
   "execution_count": 313,
   "metadata": {},
   "outputs": [],
   "source": [
    "df[\"model\"] = ''\n",
    "df['model'][df['Comment'].str.contains('DD3035-200')] = \"DD3035\"\n",
    "df['model'][df['Comment'].str.contains('CZ9084-001')] = \"CZ9084\"\n",
    "df['model'][df['Comment'].str.contains('CT7875-994')] = \"CT7875\""
   ]
  },
  {
   "cell_type": "code",
   "execution_count": 314,
   "metadata": {},
   "outputs": [
    {
     "name": "stdout",
     "output_type": "stream",
     "text": [
      "총 댓글 수 : 521\n",
      "응모 건수 : 363\n",
      "예외처리 건수 : 158\n",
      "사카이 응모 건수 : 309\n",
      "스투시 응모 건수 : 35\n",
      "에어포스 응모 건수 : 19\n"
     ]
    }
   ],
   "source": [
    "# 총 530개, 모델명 제대로 된것 376개, 그렇지 않은 것 154\n",
    "print(\"총 댓글 수 : {}\".format(len(df)))\n",
    "print(\"응모 건수 : {}\".format(len(df[\"model\"][df[\"model\"] != ''])))\n",
    "print(\"예외처리 건수 : {}\".format(len(df[\"model\"][df[\"model\"] == ''])))\n",
    "print(\"사카이 응모 건수 : {}\".format(len(df['model'][df['model'] == \"DD3035\"])))\n",
    "print(\"스투시 응모 건수 : {}\".format(len(df['model'][df['model'] == \"CZ9084\"])))\n",
    "print(\"에어포스 응모 건수 : {}\".format(len(df['model'][df['model'] == \"CT7875\"])))"
   ]
  },
  {
   "cell_type": "code",
   "execution_count": 280,
   "metadata": {},
   "outputs": [],
   "source": [
    "# 아이디 중복제거"
   ]
  },
  {
   "cell_type": "code",
   "execution_count": 315,
   "metadata": {},
   "outputs": [
    {
     "data": {
      "text/plain": [
       "<bound method Series.unique of 0                  tab.ody\n",
       "1             dulcinea____\n",
       "2                 v_miso_v\n",
       "3                woorigeun\n",
       "4                  tkdguq_\n",
       "              ...         \n",
       "516             jung_o_son\n",
       "517               kongjjua\n",
       "518              _yoongong\n",
       "519    sujinee_hyeonseong2\n",
       "520      hyeonseong_sujin2\n",
       "Name: ID, Length: 521, dtype: object>"
      ]
     },
     "execution_count": 315,
     "metadata": {},
     "output_type": "execute_result"
    }
   ],
   "source": [
    "df['ID'].unique"
   ]
  },
  {
   "cell_type": "code",
   "execution_count": null,
   "metadata": {},
   "outputs": [],
   "source": [
    "# 시간"
   ]
  },
  {
   "cell_type": "code",
   "execution_count": 317,
   "metadata": {},
   "outputs": [
    {
     "data": {
      "text/html": [
       "<div>\n",
       "<style scoped>\n",
       "    .dataframe tbody tr th:only-of-type {\n",
       "        vertical-align: middle;\n",
       "    }\n",
       "\n",
       "    .dataframe tbody tr th {\n",
       "        vertical-align: top;\n",
       "    }\n",
       "\n",
       "    .dataframe thead th {\n",
       "        text-align: right;\n",
       "    }\n",
       "</style>\n",
       "<table border=\"1\" class=\"dataframe\">\n",
       "  <thead>\n",
       "    <tr style=\"text-align: right;\">\n",
       "      <th></th>\n",
       "      <th>ID</th>\n",
       "      <th>Comment</th>\n",
       "      <th>Datetime</th>\n",
       "      <th>model</th>\n",
       "    </tr>\n",
       "  </thead>\n",
       "  <tbody>\n",
       "  </tbody>\n",
       "</table>\n",
       "</div>"
      ],
      "text/plain": [
       "Empty DataFrame\n",
       "Columns: [ID, Comment, Datetime, model]\n",
       "Index: []"
      ]
     },
     "execution_count": 317,
     "metadata": {},
     "output_type": "execute_result"
    }
   ],
   "source": [
    "df[df['Datetime'].str.contains('2020-12-27T18')]"
   ]
  },
  {
   "cell_type": "code",
   "execution_count": 293,
   "metadata": {},
   "outputs": [
    {
     "name": "stdout",
     "output_type": "stream",
     "text": [
      "2020-12-25\n",
      "13:14:25\n",
      "UTC\n"
     ]
    }
   ],
   "source": [
    "# dt = maya.parse(df['Datetime'][0]).datetime()\n",
    "# print(dt.date())\n",
    "# print(dt.time())\n",
    "# print(dt.tzinfo)"
   ]
  },
  {
   "cell_type": "code",
   "execution_count": 321,
   "metadata": {},
   "outputs": [],
   "source": [
    "df.to_excel('df.xlsx')"
   ]
  }
 ],
 "metadata": {
  "kernelspec": {
   "display_name": "Python 3",
   "language": "python",
   "name": "python3"
  },
  "language_info": {
   "codemirror_mode": {
    "name": "ipython",
    "version": 3
   },
   "file_extension": ".py",
   "mimetype": "text/x-python",
   "name": "python",
   "nbconvert_exporter": "python",
   "pygments_lexer": "ipython3",
   "version": "3.8.5"
  }
 },
 "nbformat": 4,
 "nbformat_minor": 4
}
