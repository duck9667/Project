{
 "cells": [
  {
   "cell_type": "markdown",
   "metadata": {},
   "source": [
    "# Crawling img"
   ]
  },
  {
   "cell_type": "code",
   "execution_count": 6,
   "metadata": {},
   "outputs": [],
   "source": [
    "import requests\n",
    "from bs4 import BeautifulSoup\n",
    "import time\n",
    "import urllib.request\n",
    "from selenium.webdriver import Chrome\n",
    "from selenium import webdriver\n",
    "import re     \n",
    "from selenium.webdriver.chrome.options import Options\n",
    "from selenium.webdriver.common.keys import Keys\n",
    "import datetime as dt\n",
    "import pandas as pd"
   ]
  },
  {
   "cell_type": "code",
   "execution_count": null,
   "metadata": {},
   "outputs": [],
   "source": [
    "browser = webdriver.Chrome(\"C:/Users/kjh96/OneDrive/Desktop/Github/duck9967/ETC/chromedriver.exe\") \n",
    "url = \"https://www.nike.com\" + link_list[0]\n",
    "browser.get(url)\n",
    "url = browser.page_source\n",
    "html = BeautifulSoup(url,'html.parser')\n",
    "img_list = html.find_all('div', {\"class\" : \"prd-gutter\"})\n",
    "product_name = html.find('meta',id = 'f_title')['content']\n",
    "\n",
    "for i in range(len(img_list)) : \n",
    "    img = html.find_all('div', {\"class\" : \"prd-gutter\"})[i].find('img')['data-product-image']\n",
    "    num = i+1\n",
    "    num = str(num)\n",
    "    savename = './Nike/' + product_name + num + '.jpg'\n",
    "    urllib.request.urlretrieve(img, savename)\n",
    "    \n",
    "# 모든 신발에 대하여 크롤링\n",
    "for i in range(3) : \n",
    "    # 드라이버 실행\n",
    "    options = webdriver.ChromeOptions()\n",
    "    options.add_argument('--headless')\n",
    "    options.add_argument(\"--disable-gpu\")\n",
    "    \n",
    "    browser = webdriver.Chrome(\"C:/Users/kjh96/OneDrive/Desktop/Github/duck9967/ETC/chromedriver.exe\", options = options) \n",
    "    url = \"https://www.nike.com\" + link_list[i]\n",
    "    browser.get(url)\n",
    "    \n",
    "    url = browser.page_source\n",
    "    html = BeautifulSoup(url,'html.parser')\n",
    "\n",
    "    # 이미지 선택\n",
    "    img_list = html.find_all('div', {\"class\" : \"prd-gutter\"})\n",
    "\n",
    "    # 제품 이름\n",
    "    product_name = html.find('meta',id = 'f_title')['content']\n",
    "    product_name\n",
    "\n",
    "    for j in range(len(img_list)) : \n",
    "        img = html.find_all('div', {\"class\" : \"prd-gutter\"})[j].find('img')['data-product-image']\n",
    "        num = j+1\n",
    "        num = str(num)\n",
    "        savename = './Nike/' + product_name +'_' + num + '.jpg'\n",
    "        urllib.request.urlretrieve(img, savename)\n",
    "    \n",
    "    browser.quit()"
   ]
  },
  {
   "cell_type": "code",
   "execution_count": 10,
   "metadata": {},
   "outputs": [],
   "source": [
    "def getNike(url):\n",
    "    browser = webdriver.Chrome(\"C:/Users/kjh96/OneDrive/Desktop/Github/duck9967/ETC/chromedriver.exe\") \n",
    "    url = url\n",
    "\n",
    "    browser.get(url)  \n",
    "    browser.maximize_window()\n",
    "    browser.implicitly_wait(1)\n",
    "\n",
    "    # 페이지 스크롤 - 스크롤 내려서 전체 동영상 목록 가져오기(예시 20번)\n",
    "    body = browser.find_element_by_tag_name('body') # 스크롤하기 위해 소스 추출\n",
    "    num_of_pagedowns = 30\n",
    "\n",
    "    while num_of_pagedowns:\n",
    "        body.send_keys(Keys.PAGE_DOWN)\n",
    "        browser.implicitly_wait(1)\n",
    "        num_of_pagedowns -= 1\n",
    "\n",
    "    # html로 파싱\n",
    "    url = browser.page_source\n",
    "    html = BeautifulSoup(url,'html.parser')\n",
    "    link = html.find_all('a',{'class':'a-product-image-link'})\n",
    "    # print(link[0].find('img')['alt'])\n",
    "    # print(link[0][\"href\"])\n",
    "    # print(len(link))\n",
    "\n",
    "    link_list = []\n",
    "    title_list =  []\n",
    "    for i in range(len(link)) :\n",
    "        tltle = link[i].find('img')['alt']\n",
    "        url= link[i][\"href\"]\n",
    "\n",
    "        link_list.append(url)\n",
    "        title_list.append(tltle)\n",
    "        \n",
    "    df = pd.DataFrame({\"title\" : title_list, \"url\" : link_list})\n",
    "    print(df.shape)"
   ]
  },
  {
   "cell_type": "code",
   "execution_count": 11,
   "metadata": {},
   "outputs": [
    {
     "name": "stdout",
     "output_type": "stream",
     "text": [
      "(40, 2)\n"
     ]
    }
   ],
   "source": [
    "getNike(\"https://www.nike.com/kr/ko_kr/w/men/fw\")"
   ]
  },
  {
   "cell_type": "code",
   "execution_count": 13,
   "metadata": {},
   "outputs": [],
   "source": [
    "def getNike_img(): \n",
    "    \n",
    "    browser = webdriver.Chrome(\"C:/Users/kjh96/OneDrive/Desktop/Github/duck9967/ETC/chromedriver.exe\") \n",
    "    url = \"https://www.nike.com\" + link_list[0]\n",
    "    browser.get(url)\n",
    "    url = browser.page_source\n",
    "    html = BeautifulSoup(url,'html.parser')\n",
    "    img_list = html.find_all('div', {\"class\" : \"prd-gutter\"})\n",
    "    product_name = html.find('meta',id = 'f_title')['content']\n",
    "\n",
    "    for i in range(len(img_list)) : \n",
    "        img = html.find_all('div', {\"class\" : \"prd-gutter\"})[i].find('img')['data-product-image']\n",
    "        num = i+1\n",
    "        num = str(num)\n",
    "        savename = './Nike/' + product_name + num + '.jpg'\n",
    "        urllib.request.urlretrieve(img, savename)\n",
    "\n",
    "    # 모든 신발에 대하여 크롤링\n",
    "    for i in range(3) : \n",
    "        # 드라이버 실행\n",
    "        options = webdriver.ChromeOptions()\n",
    "        options.add_argument('--headless')\n",
    "        options.add_argument(\"--disable-gpu\")\n",
    "\n",
    "        browser = webdriver.Chrome(\"C:/Users/kjh96/OneDrive/Desktop/Github/duck9967/ETC/chromedriver.exe\", options = options) \n",
    "        url = \"https://www.nike.com\" + link_list[i]\n",
    "        browser.get(url)\n",
    "\n",
    "        url = browser.page_source\n",
    "        html = BeautifulSoup(url,'html.parser')\n",
    "\n",
    "        # 이미지 선택\n",
    "        img_list = html.find_all('div', {\"class\" : \"prd-gutter\"})\n",
    "\n",
    "        # 제품 이름\n",
    "        product_name = html.find('meta',id = 'f_title')['content']\n",
    "        product_name\n",
    "\n",
    "        for j in range(len(img_list)) : \n",
    "            img = html.find_all('div', {\"class\" : \"prd-gutter\"})[j].find('img')['data-product-image']\n",
    "            num = j+1\n",
    "            num = str(num)\n",
    "            savename = './Nike/' + product_name +'_' + num + '.jpg'\n",
    "            urllib.request.urlretrieve(img, savename)\n",
    "\n",
    "        browser.quit()"
   ]
  },
  {
   "cell_type": "code",
   "execution_count": null,
   "metadata": {},
   "outputs": [],
   "source": [
    "getNike_img()"
   ]
  }
 ],
 "metadata": {
  "kernelspec": {
   "display_name": "Python 3",
   "language": "python",
   "name": "python3"
  },
  "language_info": {
   "codemirror_mode": {
    "name": "ipython",
    "version": 3
   },
   "file_extension": ".py",
   "mimetype": "text/x-python",
   "name": "python",
   "nbconvert_exporter": "python",
   "pygments_lexer": "ipython3",
   "version": "3.8.5"
  }
 },
 "nbformat": 4,
 "nbformat_minor": 4
}
