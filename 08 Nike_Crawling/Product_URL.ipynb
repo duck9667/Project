{
 "cells": [
  {
   "cell_type": "markdown",
   "metadata": {},
   "source": [
    "# Product_URL"
   ]
  },
  {
   "cell_type": "code",
   "execution_count": 23,
   "metadata": {},
   "outputs": [],
   "source": [
    "import requests\n",
    "from bs4 import BeautifulSoup\n",
    "import time\n",
    "import urllib.request\n",
    "from selenium.webdriver import Chrome\n",
    "from selenium import webdriver\n",
    "import re     \n",
    "from selenium.webdriver.chrome.options import Options\n",
    "from selenium.webdriver.common.keys import Keys\n",
    "import datetime as dt\n",
    "import pandas as pd # pip install numpy==1.19.3\n",
    "print(np.__version__)"
   ]
  },
  {
   "cell_type": "code",
   "execution_count": 38,
   "metadata": {},
   "outputs": [],
   "source": [
    "def getNike(url):\n",
    "    browser = webdriver.Chrome(r\"C:\\Users\\82109\\Desktop\\곽종현\\03 Github\\duck9967\\ETC\\chromedriver.exe\") \n",
    "    url = url\n",
    "\n",
    "    browser.get(url)  \n",
    "    browser.maximize_window()\n",
    "    browser.implicitly_wait(1)\n",
    "\n",
    "    # 페이지 스크롤 - 스크롤 내려서 전체 동영상 목록 가져오기(예시 20번)\n",
    "    body = browser.find_element_by_tag_name('body') # 스크롤하기 위해 소스 추출\n",
    "    num_of_pagedowns = 30\n",
    "\n",
    "    while num_of_pagedowns:\n",
    "        body.send_keys(Keys.PAGE_DOWN)\n",
    "        browser.implicitly_wait(1)\n",
    "        num_of_pagedowns -= 1\n",
    "\n",
    "    # html로 파싱\n",
    "    url = browser.page_source\n",
    "    html = BeautifulSoup(url,'html.parser')\n",
    "    link = html.find_all('a',{'class':'a-product-image-link'})\n",
    "    # print(link[0].find('img')['alt'])\n",
    "    # print(link[0][\"href\"])\n",
    "    # print(len(link))\n",
    "\n",
    "    link_list = []\n",
    "    title_list =  []\n",
    "    for i in range(len(link)) :\n",
    "        tltle = link[i].find('img')['alt']\n",
    "        url= link[i][\"href\"]\n",
    "\n",
    "        link_list.append(url)\n",
    "        title_list.append(tltle)\n",
    "        \n",
    "    df = pd.DataFrame({\"title\" : title_list, \"url\" : link_list})\n",
    "    print(df.title)\n",
    "    print(df.shape)"
   ]
  },
  {
   "cell_type": "code",
   "execution_count": 39,
   "metadata": {
    "collapsed": true,
    "jupyter": {
     "outputs_hidden": true
    }
   },
   "outputs": [
    {
     "name": "stdout",
     "output_type": "stream",
     "text": [
      "0     나이키 블레이저 미드 '77 빈티지 SE\n",
      "1             나이키 에어맥스 95 SE\n",
      "2              나이키 데이브레이크-타입\n",
      "3                   카이리 7 EP\n",
      "4                 에어 조던 V 로우\n",
      "5               에어 조던 13 레트로\n",
      "6       나이키 에어 베이퍼맥스 2020 FK\n",
      "7              나이키 에어 포스 1/1\n",
      "8                 나이키 데이브레이크\n",
      "9                 에어 조던 1 로우\n",
      "10                나이키 챌린저 OG\n",
      "11             나이키 리액트 비전 3M\n",
      "12            나이키 페가수스 트레일 2\n",
      "13               에어 조던 35 SH\n",
      "14             나이키 리액트 비전 3M\n",
      "15             나이키 데이브레이크-타입\n",
      "16       나이키 블레이저 미드 '77 빈티지\n",
      "17             나이키 메트콘 6 AMP\n",
      "18           나이키 에어맥스 90 LTR\n",
      "19            나이키 에어맥스 ZM950\n",
      "20            나이키 스페이스 히피 04\n",
      "21                에어 조던 V 로우\n",
      "22           나이키 에어맥스 90 LTR\n",
      "23           나이키 에어 줌 보메로 15\n",
      "24               에어 조던 9 레트로\n",
      "25       나이키 블레이저 로우 '77 빈티지\n",
      "26       나이키 블레이저 로우 '77 빈티지\n",
      "27       나이키 블레이저 로우 '77 빈티지\n",
      "28                나이키 데이브레이크\n",
      "29                나이키 데이브레이크\n",
      "30               나이키 에어맥스 제퍼\n",
      "31                에어 조던 1 미드\n",
      "32       나이키 에어 포스 1 NDSTRKT\n",
      "33                나이키 챌린저 OG\n",
      "34      나이키 에어 줌 인피니티 투어 NRG\n",
      "35         나이키 에어맥스 97 G NRG\n",
      "36                   KD13 EP\n",
      "37                    르브론 18\n",
      "38                    줌 프릭 2\n",
      "39               카이리 로우 3 EP\n",
      "Name: title, dtype: object\n",
      "(40, 2)\n"
     ]
    }
   ],
   "source": [
    "getNike(\"https://www.nike.com/kr/ko_kr/w/men/fw\")"
   ]
  },
  {
   "cell_type": "code",
   "execution_count": null,
   "metadata": {},
   "outputs": [],
   "source": []
  },
  {
   "cell_type": "code",
   "execution_count": 24,
   "metadata": {},
   "outputs": [
    {
     "name": "stderr",
     "output_type": "stream",
     "text": [
      "[NbConvertApp] Converting notebook Product_URL.ipynb to python\n",
      "[NbConvertApp] Writing 1583 bytes to Product_URL.py\n"
     ]
    }
   ],
   "source": [
    "# !jupyter nbconvert --to python Product_URL.ipynb"
   ]
  }
 ],
 "metadata": {
  "kernelspec": {
   "display_name": "Python 3",
   "language": "python",
   "name": "python3"
  },
  "language_info": {
   "codemirror_mode": {
    "name": "ipython",
    "version": 3
   },
   "file_extension": ".py",
   "mimetype": "text/x-python",
   "name": "python",
   "nbconvert_exporter": "python",
   "pygments_lexer": "ipython3",
   "version": "3.8.5"
  }
 },
 "nbformat": 4,
 "nbformat_minor": 4
}
